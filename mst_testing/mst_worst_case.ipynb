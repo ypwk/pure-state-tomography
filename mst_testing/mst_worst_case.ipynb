{
 "cells": [
  {
   "cell_type": "code",
   "execution_count": 4,
   "metadata": {},
   "outputs": [],
   "source": [
    "import networkx as nx\n",
    "import itertools\n",
    "import matplotlib.pyplot as plt\n",
    "from matplotlib.backends.backend_pdf import PdfPages\n",
    "import heapq\n"
   ]
  },
  {
   "cell_type": "code",
   "execution_count": 18,
   "metadata": {},
   "outputs": [],
   "source": [
    "def generate_binary_labels(c: tuple, n: int):\n",
    "    return [format(i, '0' + str(n) + 'b') for i in c]\n",
    "\n",
    "def hamming_distance(s1, s2):\n",
    "    return sum(c1 != c2 for c1, c2 in zip(s1, s2))\n",
    "\n",
    "def create_graph(labels):\n",
    "    G = nx.Graph()\n",
    "    for label in labels:\n",
    "        G.add_node(label)\n",
    "    for u, v in itertools.combinations(labels, 2):\n",
    "        distance = hamming_distance(u, v)\n",
    "        G.add_edge(u, v, weight=distance)\n",
    "    return G\n",
    "\n",
    "def total_weight(G):\n",
    "    return sum(weight for u, v, weight in G.edges.data('weight'))\n",
    "\n",
    "def visualize_graph_and_mst(w, idx, grid_size, fig):\n",
    "    pos = nx.planar_layout(w.mst)  \n",
    "    ax = fig.add_subplot(grid_size, grid_size, idx)\n",
    "    \n",
    "    plt.axis('off') \n",
    "    \n",
    "    nx.draw(w.mst, pos, with_labels=True, node_size=100, node_color='lightblue', edge_color='gray', alpha=0.6, ax=ax)\n",
    "    # nx.draw_networkx_edges(w.graph, pos, edgelist=w.mst.edges(), edge_color='red', width=2, ax=ax)\n",
    "    nx.draw_networkx_edge_labels(w.mst, pos, edge_labels=nx.get_edge_attributes(w.mst, 'weight'))\n",
    "    \n",
    "    ax.set_title(f\"Weight: {w.weight}\", fontsize=10)  # Use the weight from the graph attribute\n",
    "\n",
    "\n",
    "class wrapper:\n",
    "    def __init__(self, w, m, g):\n",
    "        self.weight = w\n",
    "        self.mst = m\n",
    "        self.graph = G\n",
    "    \n",
    "    def __lt__(self, other):\n",
    "        return self.weight < other.weight\n",
    "\n",
    "    def __eq__(self, other):\n",
    "        return self.weight == other.weight\n",
    "    \n",
    "    def __str__(self):\n",
    "        return f\"{self.weight}\""
   ]
  },
  {
   "cell_type": "code",
   "execution_count": 20,
   "metadata": {},
   "outputs": [],
   "source": [
    "n = 3\n",
    "t = 12\n",
    "pdf = PdfPages(f'graph_visualizations_{n}.pdf')\n",
    "for k in range(4, 6):\n",
    "    heap = []\n",
    "    for combo in itertools.combinations([_ for _ in range(1, 2 ** n)], k - 1):\n",
    "        combo = 0, *combo\n",
    "        labels = generate_binary_labels(combo, n)\n",
    "        G = create_graph(labels)\n",
    "        mst = nx.minimum_spanning_tree(G)\n",
    "        mst_weight = total_weight(mst)\n",
    "        heapq.heappush(heap, wrapper(mst_weight, mst, G))\n",
    "        if len(heap) > t:\n",
    "            heapq.heappop(heap)\n",
    "\n",
    "    top = sorted(heap, key=lambda x: x.weight, reverse=True)\n",
    "    grid_size = 4\n",
    "\n",
    "    fig = plt.figure(figsize=(grid_size * 5, grid_size * 4)) \n",
    "    plt.clf()\n",
    "    for i, w in enumerate(top, start=1):\n",
    "        visualize_graph_and_mst(w, i, grid_size, fig)\n",
    "\n",
    "    plt.tight_layout()\n",
    "    plt.suptitle(f'Graphs {k} vertices {n} qubits', fontsize=16)\n",
    "    pdf.savefig(fig)\n",
    "    plt.close()\n",
    "\n",
    "pdf.close()"
   ]
  },
  {
   "cell_type": "code",
   "execution_count": null,
   "metadata": {},
   "outputs": [],
   "source": []
  },
  {
   "cell_type": "code",
   "execution_count": null,
   "metadata": {},
   "outputs": [],
   "source": []
  }
 ],
 "metadata": {
  "kernelspec": {
   "display_name": ".venv",
   "language": "python",
   "name": "python3"
  },
  "language_info": {
   "codemirror_mode": {
    "name": "ipython",
    "version": 3
   },
   "file_extension": ".py",
   "mimetype": "text/x-python",
   "name": "python",
   "nbconvert_exporter": "python",
   "pygments_lexer": "ipython3",
   "version": "3.10.9"
  }
 },
 "nbformat": 4,
 "nbformat_minor": 2
}
