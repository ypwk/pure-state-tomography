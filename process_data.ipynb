{
 "cells": [
  {
   "cell_type": "code",
   "execution_count": 4,
   "metadata": {},
   "outputs": [],
   "source": [
    "import os \n",
    "import numpy as np\n",
    "import matplotlib.pyplot as plt"
   ]
  },
  {
   "cell_type": "code",
   "execution_count": 15,
   "metadata": {},
   "outputs": [],
   "source": [
    "def read_in_data():\n",
    "    data_dir = os.path.join(\"rundata\", \"local\")\n",
    "    data_files = os.listdir(data_dir)\n",
    "    run_data = []\n",
    "    for data_file in data_files:\n",
    "        with open(os.path.join(data_dir, data_file), encoding=\"utf-8\") as file:\n",
    "            metadata = data_file[:-4].split(\"_\")\n",
    "            experiment_number = int(metadata[0][3:])\n",
    "            number_runs = int(metadata[2])\n",
    "            hadamard = len(metadata) == 4\n",
    "\n",
    "            curr_data = np.zeros(number_runs)\n",
    "            idx = 0\n",
    "            for line in file.readlines():\n",
    "                if \"Error:\" in line:\n",
    "                    curr_data[idx] = float(line.split(\" \")[2])\n",
    "                    idx += 1\n",
    "            \n",
    "            run_data.append({\n",
    "                \"experiment_number\": experiment_number,\n",
    "                \"number_runs\": number_runs,\n",
    "                \"hadamard\": hadamard,\n",
    "                \"data\": curr_data\n",
    "            })\n",
    "    return run_data\n",
    "\n",
    "exp_names = ['000, 001', '000, 110', '000, 111', '000, 010, 100', '000, 010, 101', '000, 011, 110', 'General Unitary']\n",
    "\n",
    "def plot_experiments(run_data, output_dir):\n",
    "    # Group data by experiment number\n",
    "    grouped_data = {}\n",
    "    for run in run_data:\n",
    "        exp_num = run['experiment_number']\n",
    "        key = (exp_num, run['hadamard'])\n",
    "        if key not in grouped_data:\n",
    "            grouped_data[key] = []\n",
    "        grouped_data[key].extend(run['data'])\n",
    "\n",
    "        # Create box and whisker plots\n",
    "    for exp_num in set(key[0] for key in grouped_data):\n",
    "        hadamard_data = grouped_data.get((exp_num, True), [])\n",
    "        no_hadamard_data = grouped_data.get((exp_num, False), [])\n",
    "\n",
    "        data_to_plot = []\n",
    "        labels = []\n",
    "\n",
    "        if hadamard_data:\n",
    "            data_to_plot.append(hadamard_data)\n",
    "            labels.append('Hadamard')\n",
    "\n",
    "        if no_hadamard_data:\n",
    "            data_to_plot.append(no_hadamard_data)\n",
    "            labels.append('No Hadamard')\n",
    "\n",
    "        if not data_to_plot:  # Skip if no data is available\n",
    "            continue\n",
    "\n",
    "        plt.boxplot(data_to_plot, labels=labels)\n",
    "        plt.ylabel('Error Percentage')\n",
    "        plt.ylim(0, 10) if no_hadamard_data[0] < 10 else plt.ylim(0, 100)\n",
    "        plt.title(f'Experiment {exp_names[exp_num - 1]} Comparison')\n",
    "        plt.savefig(os.path.join(output_dir, f'Experiment_{exp_num}_Comparison.png'))\n",
    "        plt.close()\n",
    "\n"
   ]
  },
  {
   "cell_type": "code",
   "execution_count": 16,
   "metadata": {},
   "outputs": [],
   "source": [
    "run_data = read_in_data()\n",
    "output_dir = os.path.join(\"rundata\", \"charts\")\n",
    "plot_experiments(run_data, output_dir)"
   ]
  },
  {
   "cell_type": "code",
   "execution_count": null,
   "metadata": {},
   "outputs": [],
   "source": []
  }
 ],
 "metadata": {
  "kernelspec": {
   "display_name": ".venv",
   "language": "python",
   "name": "python3"
  },
  "language_info": {
   "codemirror_mode": {
    "name": "ipython",
    "version": 3
   },
   "file_extension": ".py",
   "mimetype": "text/x-python",
   "name": "python",
   "nbconvert_exporter": "python",
   "pygments_lexer": "ipython3",
   "version": "3.10.9"
  }
 },
 "nbformat": 4,
 "nbformat_minor": 2
}
