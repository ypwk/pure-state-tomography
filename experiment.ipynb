{
 "cells": [
  {
   "cell_type": "markdown",
   "metadata": {},
   "source": [
    "# Pure State Tomography Experiments\n",
    "This notebook contains code for running experiments on IBM quantum computers."
   ]
  },
  {
   "cell_type": "markdown",
   "metadata": {},
   "source": [
    "## First Time Setup\n",
    "Before running the code in this repository, you will need to set up the IBM Qiskit Runtime. First, create a file named config.ini, which will contain your IBM credentials. The format is as follows:\n",
    "\n",
    "```ini\n",
    "[IBM]\n",
    "token = <YOUR_IBM_TOKEN>\n",
    "```\n",
    "\n",
    "This program will read the config.ini file for your API token. Now, run the following code to save your IBM token to your machine for further use. You will no longer need to run this cell afterwards. "
   ]
  },
  {
   "cell_type": "code",
   "execution_count": 4,
   "metadata": {},
   "outputs": [],
   "source": [
    "import configparser\n",
    "from qiskit_ibm_runtime import QiskitRuntimeService\n",
    "\n",
    "with open(\"config.ini\", \"r\") as cf:\n",
    "    cp = configparser.ConfigParser()\n",
    "    cp.read_file(cf)\n",
    "    api_token = cp.get(\"IBM\", \"token\")\n",
    "QiskitRuntimeService.save_account(channel=\"ibm_quantum\", token=api_token, overwrite=True)"
   ]
  },
  {
   "cell_type": "markdown",
   "metadata": {},
   "source": [
    "You will also need to install the prerequisite python packages."
   ]
  },
  {
   "cell_type": "markdown",
   "metadata": {},
   "source": [
    "### Running Experiments\n",
    "First, import the necessary packages and set up the code:"
   ]
  },
  {
   "cell_type": "code",
   "execution_count": 1,
   "metadata": {},
   "outputs": [],
   "source": [
    "from numpy import (\n",
    "    ndarray,\n",
    "    asarray,\n",
    "    array,\n",
    "    reshape,\n",
    "    sqrt,\n",
    "    linalg,\n",
    "    set_printoptions\n",
    ")\n",
    "from qiskit_aer import AerSimulator\n",
    "from pure_state_tomography import tomography\n",
    "import putils\n",
    "import qutils\n",
    "import qiskit\n",
    "from measurement_manager import measurement_manager\n",
    "\n",
    "set_printoptions(linewidth=100)"
   ]
  },
  {
   "cell_type": "markdown",
   "metadata": {},
   "source": [
    "The following function runs the experiment using the `pure_state_tomography` package. \n",
    "\n",
    "For runs on real IBM quantum computers (i.e. not simulator or statevector runs), the first concluded run for an input will output a job file containing the IBM job ids, which the `tomography` class will use to recall the contents of previous runs. Do note that because concurrent IBM jobs are limited to 3 per free account, you may have to run this code several times to get all of the needed measurement results.  "
   ]
  },
  {
   "cell_type": "code",
   "execution_count": 2,
   "metadata": {},
   "outputs": [],
   "source": [
    "talg = tomography()\n",
    "\n",
    "def run(\n",
    "    mm: measurement_manager,\n",
    "    state: ndarray | qiskit.QuantumCircuit,\n",
    "    verbose: bool = True,\n",
    "    job_file: str = None,\n",
    "    hadamard: bool = False,\n",
    "):\n",
    "    putils.fprint(\"Running inference at {} shots\\n\".format(mm.n_shots))\n",
    "\n",
    "    # reset measurement manager state\n",
    "    mm.set_state(state)\n",
    "    \n",
    "    # run pure state tomography\n",
    "    res = talg.pure_state_tomography(\n",
    "        mm=mm, verbose=verbose, job_file=job_file, hadamard=hadamard\n",
    "    )\n",
    "\n",
    "    if res is not None:        \n",
    "        if type(state) is ndarray:\n",
    "            if state.ndim > 1:\n",
    "                res = (\n",
    "                    reshape(\n",
    "                        res,\n",
    "                        (\n",
    "                            state.shape[0],\n",
    "                            state.shape[0],\n",
    "                        ),\n",
    "                    ).T\n",
    "                    * 2\n",
    "                )\n",
    "            putils.fprint(\n",
    "                \"Reconstructed {}:\\n{}\".format(\n",
    "                    \"vector\" if state.ndim == 1 else \"matrix\", res\n",
    "                )\n",
    "            )\n",
    "            putils.fprint(\n",
    "                \"% Error: {}\\n\".format(100 * linalg.norm(state- res))\n",
    "            )\n",
    "        elif type(state) is qiskit.QuantumCircuit:\n",
    "            state = qutils.circuit_to_statevector(state)\n",
    "            \n",
    "            if state.ndim > 1:\n",
    "                res = (\n",
    "                    reshape(\n",
    "                        res,\n",
    "                        (\n",
    "                            state.shape[0],\n",
    "                            state.shape[0],\n",
    "                        ),\n",
    "                    ).T\n",
    "                    * 2\n",
    "                )\n",
    "\n",
    "            putils.fprint(\n",
    "                \"Original {}:\\n{}\".format(\n",
    "                    \"vector\" if state.ndim == 1 else \"matrix\", state\n",
    "                )\n",
    "            )\n",
    "            putils.fprint(\n",
    "                \"Reconstructed {}:\\n{}\".format(\n",
    "                    \"vector\" if state.ndim == 1 else \"matrix\", res\n",
    "                )\n",
    "            )\n",
    "\n",
    "            putils.fprint(\n",
    "                \"% Error: {}\\n\".format(100 * linalg.norm(state- res))\n",
    "            )"
   ]
  },
  {
   "cell_type": "markdown",
   "metadata": {},
   "source": [
    "The following code runs the experiment. Using a single measurement manager object is recommended. "
   ]
  },
  {
   "cell_type": "code",
   "execution_count": 3,
   "metadata": {},
   "outputs": [
    {
     "name": "stdout",
     "output_type": "stream",
     "text": [
      "Running inference at 16384 shots\n",
      "\n",
      "Input circuit:\n",
      "     ┌───┐\n",
      "q_0: ┤ X ├\n",
      "     └───┘\n",
      "q_1: ─────\n",
      "          \n",
      "Statevector:\n",
      "[0.+0.j 1.+0.j 0.+0.j 0.+0.j]\n",
      "        ┌───┐ ░  ░ ┌───┐ ░ ┌─┐   \n",
      "   q_0: ┤ X ├─░──░─┤ I ├─░─┤M├───\n",
      "        └───┘ ░  ░ ├───┤ ░ └╥┘┌─┐\n",
      "   q_1: ──────░──░─┤ I ├─░──╫─┤M├\n",
      "              ░  ░ └───┘ ░  ║ └╥┘\n",
      "meas: 2/════════════════════╩══╩═\n",
      "                            0  1 \n",
      "Measurements:\n",
      "\n",
      "Number of unitary operators applied: 1\n",
      "Original vector:\n",
      "[0.+0.j 1.+0.j 0.+0.j 0.+0.j]\n",
      "Reconstructed vector:\n",
      "[0.+0.j 1.+0.j 0.+0.j 0.+0.j]\n",
      "% Error: 1.1102230246251565e-14\n",
      "\n"
     ]
    }
   ],
   "source": [
    "VERBOSITY = True\n",
    "# qutils.EPSILON = 1.5e-2  # matrix\n",
    "qutils.EPSILON = 5e-3  # vector\n",
    "# qutils.EPSILON = 5e-5  # statevector\n",
    "\n",
    "\n",
    "# state = array([1 / 2, 0, 0, -3 / sqrt(12)])\n",
    "state = qiskit.QuantumCircuit(2)\n",
    "state.x(0)\n",
    "\n",
    "mm = measurement_manager(\n",
    "    n_shots=16384,\n",
    "    execution_type=qutils.execution_type.simulator,\n",
    "    verbose=VERBOSITY\n",
    ")\n",
    "\n",
    "run(mm=mm, state=state, verbose=VERBOSITY, job_file=None, hadamard=False)"
   ]
  },
  {
   "cell_type": "code",
   "execution_count": null,
   "metadata": {},
   "outputs": [],
   "source": []
  }
 ],
 "metadata": {
  "kernelspec": {
   "display_name": ".venv",
   "language": "python",
   "name": "python3"
  },
  "language_info": {
   "codemirror_mode": {
    "name": "ipython",
    "version": 3
   },
   "file_extension": ".py",
   "mimetype": "text/x-python",
   "name": "python",
   "nbconvert_exporter": "python",
   "pygments_lexer": "ipython3",
   "version": "3.10.9"
  }
 },
 "nbformat": 4,
 "nbformat_minor": 2
}
