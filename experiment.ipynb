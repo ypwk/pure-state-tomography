{
 "cells": [
  {
   "cell_type": "markdown",
   "metadata": {},
   "source": [
    "# Pure State Tomography Experiments\n",
    "This notebook contains code for running experiments on IBM quantum computers."
   ]
  },
  {
   "cell_type": "markdown",
   "metadata": {},
   "source": [
    "## First Time Setup\n",
    "Before running the code in this repository, you will need to set up the IBM Qiskit Runtime. First, create a file named config.ini, which will contain your IBM credentials. The format is as follows:\n",
    "\n",
    "```ini\n",
    "[IBM]\n",
    "token = <YOUR_IBM_TOKEN>\n",
    "```\n",
    "\n",
    "This program will read the config.ini file for your API token. Now, run the following code to save your IBM token to your machine for further use. You will no longer need to run this cell afterwards. "
   ]
  },
  {
   "cell_type": "code",
   "execution_count": null,
   "metadata": {},
   "outputs": [],
   "source": [
    "import configparser\n",
    "from qiskit_ibm_runtime import QiskitRuntimeService\n",
    "\n",
    "with open(\"config.ini\", \"r\") as cf:\n",
    "    cp = configparser.ConfigParser()\n",
    "    cp.read_file(cf)\n",
    "    api_token = cp.get(\"IBM\", \"token\")\n",
    "QiskitRuntimeService.save_account(channel=\"ibm_quantum\", token=api_token, overwrite=True)"
   ]
  },
  {
   "cell_type": "markdown",
   "metadata": {},
   "source": [
    "You will also need to install the prerequisite python packages."
   ]
  },
  {
   "cell_type": "code",
   "execution_count": null,
   "metadata": {},
   "outputs": [],
   "source": [
    "import sys\n",
    "\n",
    "!{sys.executable} -m pip install qiskit\n",
    "!{sys.executable} -m pip install qiskit_aer\n",
    "!{sys.executable} -m pip install qiskit_ibm_provider\n",
    "!{sys.executable} -m pip install qiskit_ibm_runtime\n",
    "!{sys.executable} -m pip install numpy\n",
    "!{sys.executable} -m pip install networkx\n",
    "!{sys.executable} -m pip install enum"
   ]
  },
  {
   "cell_type": "markdown",
   "metadata": {},
   "source": [
    "### Running Experiments\n",
    "First, import the necessary packages and set up the code:"
   ]
  },
  {
   "cell_type": "code",
   "execution_count": null,
   "metadata": {},
   "outputs": [],
   "source": [
    "from numpy import (\n",
    "    ndarray,\n",
    "    reshape,\n",
    "    linalg,\n",
    "    set_printoptions,\n",
    "    pi,\n",
    ")\n",
    "from qiskit_aer import AerSimulator\n",
    "from pure_state_tomography import tomography\n",
    "import putils\n",
    "import qutils\n",
    "import qiskit\n",
    "from measurement_manager import measurement_manager\n",
    "\n",
    "set_printoptions(linewidth=100)"
   ]
  },
  {
   "cell_type": "markdown",
   "metadata": {},
   "source": [
    "The following function runs the experiment using the `pure_state_tomography` package. \n",
    "\n",
    "For runs on real IBM quantum computers (i.e. not simulator or statevector runs), the first concluded run for an input will output a job file containing the IBM job ids, which the `tomography` class will use to recall the contents of previous runs. Do note that because concurrent IBM jobs are limited to 3 per free account, you may have to run this code several times to get all of the needed measurement results."
   ]
  },
  {
   "cell_type": "code",
   "execution_count": null,
   "metadata": {},
   "outputs": [],
   "source": [
    "talg = tomography()\n",
    "\n",
    "def run(\n",
    "    mm: measurement_manager,\n",
    "    state: ndarray | qiskit.QuantumCircuit,\n",
    "    verbose: bool = True,\n",
    "    job_file: str = None,\n",
    "    hadamard: bool = False,\n",
    "):\n",
    "    putils.fprint(\"Running inference at {} shots\\n\".format(mm.n_shots))\n",
    "\n",
    "    # reset measurement manager state\n",
    "    mm.set_state(state)\n",
    "    \n",
    "    if type(state) is qiskit.QuantumCircuit:\n",
    "        state = state.copy()\n",
    "    \n",
    "    # run pure state tomography\n",
    "    res = talg.pure_state_tomography(\n",
    "        mm=mm, verbose=verbose, job_file=job_file, hadamard=hadamard\n",
    "    )\n",
    "\n",
    "    if res is not None:        \n",
    "        if type(state) is ndarray:\n",
    "            if state.ndim > 1:\n",
    "                res = (\n",
    "                    reshape(\n",
    "                        res,\n",
    "                        (\n",
    "                            state.shape[0],\n",
    "                            state.shape[0],\n",
    "                        ),\n",
    "                    ).T\n",
    "                    * 2\n",
    "                )\n",
    "            putils.fprint(\n",
    "                \"Reconstructed {}:\\n{}\".format(\n",
    "                    \"vector\" if state.ndim == 1 else \"matrix\", res\n",
    "                )\n",
    "            )\n",
    "            putils.fprint(\n",
    "                \"% Error: {}\\n\".format(100 * linalg.norm(state- res))\n",
    "            )\n",
    "        elif type(state) is qiskit.QuantumCircuit:\n",
    "            state = qutils.circuit_to_statevector(state)\n",
    "            \n",
    "            if state.ndim > 1:\n",
    "                res = (\n",
    "                    reshape(\n",
    "                        res,\n",
    "                        (\n",
    "                            state.shape[0],\n",
    "                            state.shape[0],\n",
    "                        ),\n",
    "                    ).T\n",
    "                    * 2\n",
    "                )\n",
    "\n",
    "            putils.fprint(\n",
    "                \"Original {}:\\n{}\".format(\n",
    "                    \"vector\" if state.ndim == 1 else \"matrix\", state\n",
    "                )\n",
    "            )\n",
    "            putils.fprint(\n",
    "                \"Reconstructed {}:\\n{}\".format(\n",
    "                    \"vector\" if state.ndim == 1 else \"matrix\", res\n",
    "                )\n",
    "            )\n",
    "\n",
    "            putils.fprint(\n",
    "                \"% Error: {}\\n\".format(100 * linalg.norm(state - res))\n",
    "            )"
   ]
  },
  {
   "cell_type": "markdown",
   "metadata": {},
   "source": [
    "The following code sets up and runs the experiment on an IBM quantum computer using our previously defined run function. Using a single measurement manager object is recommended. "
   ]
  },
  {
   "cell_type": "code",
   "execution_count": null,
   "metadata": {},
   "outputs": [],
   "source": [
    "VERBOSITY = True\n",
    "\n",
    "qutils.EPSILON = 5e-3\n",
    "\n",
    "JOB_FILE = \"job_2023_11_13T_17_06_44.txt\"\n",
    "\n",
    "# put state code here\n",
    "state = qiskit.QuantumCircuit(3)\n",
    "state.h(0)\n",
    "\n",
    "mm = measurement_manager(\n",
    "    n_shots=16384,\n",
    "    execution_type=qutils.execution_type.ibm_qpu,\n",
    "    verbose=VERBOSITY,\n",
    ")\n",
    "\n",
    "run(mm=mm, state=state, verbose=VERBOSITY, job_file=JOB_FILE, hadamard=True)"
   ]
  },
  {
   "cell_type": "markdown",
   "metadata": {},
   "source": [
    "The following code sets up and runs the experiment many times on local noisy simulators. "
   ]
  },
  {
   "cell_type": "code",
   "execution_count": 17,
   "metadata": {},
   "outputs": [
    {
     "ename": "KeyboardInterrupt",
     "evalue": "",
     "output_type": "error",
     "traceback": [
      "\u001b[1;31m---------------------------------------------------------------------------\u001b[0m",
      "\u001b[1;31mKeyboardInterrupt\u001b[0m                         Traceback (most recent call last)",
      "\u001b[1;32mc:\\Users\\kevin\\Research\\tomography-repo\\experiment.ipynb Cell 13\u001b[0m line \u001b[0;36m1\n\u001b[0;32m      <a href='vscode-notebook-cell:/c%3A/Users/kevin/Research/tomography-repo/experiment.ipynb#X15sZmlsZQ%3D%3D?line=8'>9</a>\u001b[0m state \u001b[39m=\u001b[39m qiskit\u001b[39m.\u001b[39mQuantumCircuit(\u001b[39m3\u001b[39m)\n\u001b[0;32m     <a href='vscode-notebook-cell:/c%3A/Users/kevin/Research/tomography-repo/experiment.ipynb#X15sZmlsZQ%3D%3D?line=9'>10</a>\u001b[0m state\u001b[39m.\u001b[39mh(\u001b[39m0\u001b[39m)\n\u001b[1;32m---> <a href='vscode-notebook-cell:/c%3A/Users/kevin/Research/tomography-repo/experiment.ipynb#X15sZmlsZQ%3D%3D?line=10'>11</a>\u001b[0m run(mm\u001b[39m=\u001b[39;49mmm, state\u001b[39m=\u001b[39;49mstate, verbose\u001b[39m=\u001b[39;49mVERBOSITY, hadamard\u001b[39m=\u001b[39;49m\u001b[39mTrue\u001b[39;49;00m)\n",
      "\u001b[1;32mc:\\Users\\kevin\\Research\\tomography-repo\\experiment.ipynb Cell 13\u001b[0m line \u001b[0;36m1\n\u001b[0;32m     <a href='vscode-notebook-cell:/c%3A/Users/kevin/Research/tomography-repo/experiment.ipynb#X15sZmlsZQ%3D%3D?line=15'>16</a>\u001b[0m     state \u001b[39m=\u001b[39m state\u001b[39m.\u001b[39mcopy()\n\u001b[0;32m     <a href='vscode-notebook-cell:/c%3A/Users/kevin/Research/tomography-repo/experiment.ipynb#X15sZmlsZQ%3D%3D?line=17'>18</a>\u001b[0m \u001b[39m# run pure state tomography\u001b[39;00m\n\u001b[1;32m---> <a href='vscode-notebook-cell:/c%3A/Users/kevin/Research/tomography-repo/experiment.ipynb#X15sZmlsZQ%3D%3D?line=18'>19</a>\u001b[0m res \u001b[39m=\u001b[39m talg\u001b[39m.\u001b[39;49mpure_state_tomography(\n\u001b[0;32m     <a href='vscode-notebook-cell:/c%3A/Users/kevin/Research/tomography-repo/experiment.ipynb#X15sZmlsZQ%3D%3D?line=19'>20</a>\u001b[0m     mm\u001b[39m=\u001b[39;49mmm, verbose\u001b[39m=\u001b[39;49mverbose, job_file\u001b[39m=\u001b[39;49mjob_file, hadamard\u001b[39m=\u001b[39;49mhadamard\n\u001b[0;32m     <a href='vscode-notebook-cell:/c%3A/Users/kevin/Research/tomography-repo/experiment.ipynb#X15sZmlsZQ%3D%3D?line=20'>21</a>\u001b[0m )\n\u001b[0;32m     <a href='vscode-notebook-cell:/c%3A/Users/kevin/Research/tomography-repo/experiment.ipynb#X15sZmlsZQ%3D%3D?line=22'>23</a>\u001b[0m \u001b[39mif\u001b[39;00m res \u001b[39mis\u001b[39;00m \u001b[39mnot\u001b[39;00m \u001b[39mNone\u001b[39;00m:        \n\u001b[0;32m     <a href='vscode-notebook-cell:/c%3A/Users/kevin/Research/tomography-repo/experiment.ipynb#X15sZmlsZQ%3D%3D?line=23'>24</a>\u001b[0m     \u001b[39mif\u001b[39;00m \u001b[39mtype\u001b[39m(state) \u001b[39mis\u001b[39;00m ndarray:\n",
      "File \u001b[1;32mc:\\Users\\kevin\\Research\\tomography-repo\\pure_state_tomography.py:99\u001b[0m, in \u001b[0;36mtomography.pure_state_tomography\u001b[1;34m(self, mm, verbose, job_file, hadamard)\u001b[0m\n\u001b[0;32m     93\u001b[0m         mm\u001b[39m.\u001b[39mm_state\u001b[39m.\u001b[39mh(a)\n\u001b[0;32m     95\u001b[0m \u001b[39mif\u001b[39;00m (\n\u001b[0;32m     96\u001b[0m     mm\u001b[39m.\u001b[39mexecution_type \u001b[39m==\u001b[39m qutils\u001b[39m.\u001b[39mexecution_type\u001b[39m.\u001b[39mstatevector\n\u001b[0;32m     97\u001b[0m     \u001b[39mor\u001b[39;00m mm\u001b[39m.\u001b[39mexecution_type \u001b[39m==\u001b[39m qutils\u001b[39m.\u001b[39mexecution_type\u001b[39m.\u001b[39msimulator\n\u001b[0;32m     98\u001b[0m ):\n\u001b[1;32m---> 99\u001b[0m     \u001b[39mself\u001b[39;49m\u001b[39m.\u001b[39;49m__iter_inf_helper(res, mm, dry\u001b[39m=\u001b[39;49m\u001b[39mFalse\u001b[39;49;00m)\n\u001b[0;32m    100\u001b[0m \u001b[39melse\u001b[39;00m:\n\u001b[0;32m    101\u001b[0m     \u001b[39mif\u001b[39;00m job_file \u001b[39mis\u001b[39;00m \u001b[39mNone\u001b[39;00m:\n",
      "File \u001b[1;32mc:\\Users\\kevin\\Research\\tomography-repo\\pure_state_tomography.py:200\u001b[0m, in \u001b[0;36mtomography.__iter_inf_helper\u001b[1;34m(self, target_arr, mm, dry)\u001b[0m\n\u001b[0;32m    196\u001b[0m     mm\u001b[39m.\u001b[39mdummy_measurement(\n\u001b[0;32m    197\u001b[0m         measure_type\u001b[39m=\u001b[39mqutils\u001b[39m.\u001b[39mm_type\u001b[39m.\u001b[39mreal_hadamard, op_pos\u001b[39m=\u001b[39mop\n\u001b[0;32m    198\u001b[0m     )\n\u001b[0;32m    199\u001b[0m \u001b[39melse\u001b[39;00m:\n\u001b[1;32m--> 200\u001b[0m     cmplx_m \u001b[39m=\u001b[39m mm\u001b[39m.\u001b[39;49mfetch_m(\n\u001b[0;32m    201\u001b[0m         measure_type\u001b[39m=\u001b[39;49mqutils\u001b[39m.\u001b[39;49mm_type\u001b[39m.\u001b[39;49mcmplx_hadamard, op_pos\u001b[39m=\u001b[39;49mop\n\u001b[0;32m    202\u001b[0m     )\n\u001b[0;32m    203\u001b[0m     real_m \u001b[39m=\u001b[39m mm\u001b[39m.\u001b[39mfetch_m(\n\u001b[0;32m    204\u001b[0m         measure_type\u001b[39m=\u001b[39mqutils\u001b[39m.\u001b[39mm_type\u001b[39m.\u001b[39mreal_hadamard, op_pos\u001b[39m=\u001b[39mop\n\u001b[0;32m    205\u001b[0m     )\n\u001b[0;32m    207\u001b[0m     target_arr[target] \u001b[39m=\u001b[39m qutils\u001b[39m.\u001b[39minfer_target(\n\u001b[0;32m    208\u001b[0m         target_idx\u001b[39m=\u001b[39mtarget,\n\u001b[0;32m    209\u001b[0m         source_idx\u001b[39m=\u001b[39mtarget\n\u001b[1;32m   (...)\u001b[0m\n\u001b[0;32m    215\u001b[0m         v_measure\u001b[39m=\u001b[39mcmplx_m,\n\u001b[0;32m    216\u001b[0m     )\n",
      "File \u001b[1;32mc:\\Users\\kevin\\Research\\tomography-repo\\measurement_manager.py:449\u001b[0m, in \u001b[0;36mmeasurement_manager.fetch_m\u001b[1;34m(self, measure_type, op_pos)\u001b[0m\n\u001b[0;32m    446\u001b[0m     \u001b[39mreturn\u001b[39;00m measurement_result\n\u001b[0;32m    448\u001b[0m \u001b[39mif\u001b[39;00m \u001b[39mself\u001b[39m\u001b[39m.\u001b[39m__measurements[measure_type][op_pos] \u001b[39mis\u001b[39;00m \u001b[39mNone\u001b[39;00m:\n\u001b[1;32m--> 449\u001b[0m     measurement_result \u001b[39m=\u001b[39m \u001b[39mself\u001b[39;49m\u001b[39m.\u001b[39;49madd_m(measure_type\u001b[39m=\u001b[39;49mmeasure_type, op_pos\u001b[39m=\u001b[39;49mop_pos)\n\u001b[0;32m    450\u001b[0m \u001b[39melse\u001b[39;00m:\n\u001b[0;32m    451\u001b[0m     measurement_result \u001b[39m=\u001b[39m \u001b[39mself\u001b[39m\u001b[39m.\u001b[39m__measurements[measure_type][op_pos][\u001b[39m\"\u001b[39m\u001b[39mres\u001b[39m\u001b[39m\"\u001b[39m]\n",
      "File \u001b[1;32mc:\\Users\\kevin\\Research\\tomography-repo\\measurement_manager.py:389\u001b[0m, in \u001b[0;36mmeasurement_manager.add_m\u001b[1;34m(self, measure_type, op_pos)\u001b[0m\n\u001b[0;32m    385\u001b[0m     \u001b[39mraise\u001b[39;00m \u001b[39mValueError\u001b[39;00m(\u001b[39m\"\u001b[39m\u001b[39mMeasurement type \u001b[39m\u001b[39m{}\u001b[39;00m\u001b[39m not valid.\u001b[39m\u001b[39m\"\u001b[39m, measure_type)\n\u001b[0;32m    387\u001b[0m state_circuit \u001b[39m=\u001b[39m \u001b[39mself\u001b[39m\u001b[39m.\u001b[39mconstruct_circuit(measure_type\u001b[39m=\u001b[39mmeasure_type, op_pos\u001b[39m=\u001b[39mop_pos)\n\u001b[1;32m--> 389\u001b[0m res \u001b[39m=\u001b[39m \u001b[39mself\u001b[39;49m\u001b[39m.\u001b[39;49mmeasure_state(state_circuit)\n\u001b[0;32m    391\u001b[0m \u001b[39mself\u001b[39m\u001b[39m.\u001b[39mnum_measurements \u001b[39m+\u001b[39m\u001b[39m=\u001b[39m \u001b[39m1\u001b[39m\n\u001b[0;32m    392\u001b[0m \u001b[39mself\u001b[39m\u001b[39m.\u001b[39m__measurements[measure_type][op_pos] \u001b[39m=\u001b[39m {\n\u001b[0;32m    393\u001b[0m     \u001b[39m\"\u001b[39m\u001b[39mres\u001b[39m\u001b[39m\"\u001b[39m: res,\n\u001b[0;32m    394\u001b[0m     \u001b[39m\"\u001b[39m\u001b[39mstr\u001b[39m\u001b[39m\"\u001b[39m: \u001b[39mNone\u001b[39;00m \u001b[39mif\u001b[39;00m \u001b[39mself\u001b[39m\u001b[39m.\u001b[39mverbose \u001b[39mis\u001b[39;00m \u001b[39mFalse\u001b[39;00m \u001b[39melse\u001b[39;00m \u001b[39mstr\u001b[39m(state_circuit),\n\u001b[0;32m    395\u001b[0m }\n",
      "File \u001b[1;32mc:\\Users\\kevin\\Research\\tomography-repo\\measurement_manager.py:533\u001b[0m, in \u001b[0;36mmeasurement_manager.measure_state\u001b[1;34m(self, circuit)\u001b[0m\n\u001b[0;32m    530\u001b[0m \u001b[39mif\u001b[39;00m \u001b[39mself\u001b[39m\u001b[39m.\u001b[39mexecution_type \u001b[39m==\u001b[39m qutils\u001b[39m.\u001b[39mexecution_type\u001b[39m.\u001b[39msimulator:\n\u001b[0;32m    531\u001b[0m     \u001b[39m# Shot-based simulation using AerSimulator\u001b[39;00m\n\u001b[0;32m    532\u001b[0m     circuit\u001b[39m.\u001b[39mmeasure_all()\n\u001b[1;32m--> 533\u001b[0m     raw_result \u001b[39m=\u001b[39m qutils\u001b[39m.\u001b[39;49mrun_circuit(\n\u001b[0;32m    534\u001b[0m         circuit, shots\u001b[39m=\u001b[39;49m\u001b[39mself\u001b[39;49m\u001b[39m.\u001b[39;49mn_shots, backend\u001b[39m=\u001b[39;49m\u001b[39mself\u001b[39;49m\u001b[39m.\u001b[39;49mdevice\n\u001b[0;32m    535\u001b[0m     )\n\u001b[0;32m    536\u001b[0m     \u001b[39mfor\u001b[39;00m key \u001b[39min\u001b[39;00m raw_result\u001b[39m.\u001b[39mkeys():\n\u001b[0;32m    537\u001b[0m         res[\u001b[39mint\u001b[39m(key, \u001b[39m2\u001b[39m)] \u001b[39m=\u001b[39m raw_result[key] \u001b[39m/\u001b[39m \u001b[39mself\u001b[39m\u001b[39m.\u001b[39mn_shots\n",
      "File \u001b[1;32mc:\\Users\\kevin\\Research\\tomography-repo\\qutils.py:145\u001b[0m, in \u001b[0;36mrun_circuit\u001b[1;34m(qc, shots, backend)\u001b[0m\n\u001b[0;32m    143\u001b[0m aer_sim \u001b[39m=\u001b[39m AerSimulator\u001b[39m.\u001b[39mfrom_backend(backend)\n\u001b[0;32m    144\u001b[0m t_qc \u001b[39m=\u001b[39m transpile(qc, aer_sim)\n\u001b[1;32m--> 145\u001b[0m result \u001b[39m=\u001b[39m aer_sim\u001b[39m.\u001b[39;49mrun(t_qc, shots\u001b[39m=\u001b[39;49mshots)\u001b[39m.\u001b[39;49mresult()\n\u001b[0;32m    146\u001b[0m \u001b[39mreturn\u001b[39;00m result\u001b[39m.\u001b[39mget_counts(qc)\n",
      "File \u001b[1;32mc:\\Users\\kevin\\Research\\tomography-repo\\.venv\\lib\\site-packages\\qiskit_aer\\jobs\\utils.py:42\u001b[0m, in \u001b[0;36mrequires_submit.<locals>._wrapper\u001b[1;34m(self, *args, **kwargs)\u001b[0m\n\u001b[0;32m     40\u001b[0m \u001b[39mif\u001b[39;00m \u001b[39mself\u001b[39m\u001b[39m.\u001b[39m_future \u001b[39mis\u001b[39;00m \u001b[39mNone\u001b[39;00m:\n\u001b[0;32m     41\u001b[0m     \u001b[39mraise\u001b[39;00m JobError(\u001b[39m\"\u001b[39m\u001b[39mJob not submitted yet!. You have to .submit() first!\u001b[39m\u001b[39m\"\u001b[39m)\n\u001b[1;32m---> 42\u001b[0m \u001b[39mreturn\u001b[39;00m func(\u001b[39mself\u001b[39m, \u001b[39m*\u001b[39margs, \u001b[39m*\u001b[39m\u001b[39m*\u001b[39mkwargs)\n",
      "File \u001b[1;32mc:\\Users\\kevin\\Research\\tomography-repo\\.venv\\lib\\site-packages\\qiskit_aer\\jobs\\aerjob.py:114\u001b[0m, in \u001b[0;36mAerJob.result\u001b[1;34m(self, timeout)\u001b[0m\n\u001b[0;32m     96\u001b[0m \u001b[39m@requires_submit\u001b[39m\n\u001b[0;32m     97\u001b[0m \u001b[39mdef\u001b[39;00m \u001b[39mresult\u001b[39m(\u001b[39mself\u001b[39m, timeout\u001b[39m=\u001b[39m\u001b[39mNone\u001b[39;00m):\n\u001b[0;32m     98\u001b[0m     \u001b[39m# pylint: disable=arguments-differ\u001b[39;00m\n\u001b[0;32m     99\u001b[0m \u001b[39m    \u001b[39m\u001b[39m\"\"\"Get job result. The behavior is the same as the underlying\u001b[39;00m\n\u001b[0;32m    100\u001b[0m \u001b[39m    concurrent Future objects,\u001b[39;00m\n\u001b[0;32m    101\u001b[0m \n\u001b[1;32m   (...)\u001b[0m\n\u001b[0;32m    112\u001b[0m \u001b[39m        concurrent.futures.CancelledError: if job cancelled before completed.\u001b[39;00m\n\u001b[0;32m    113\u001b[0m \u001b[39m    \"\"\"\u001b[39;00m\n\u001b[1;32m--> 114\u001b[0m     \u001b[39mreturn\u001b[39;00m \u001b[39mself\u001b[39;49m\u001b[39m.\u001b[39;49m_future\u001b[39m.\u001b[39;49mresult(timeout\u001b[39m=\u001b[39;49mtimeout)\n",
      "File \u001b[1;32m~\\AppData\\Local\\Programs\\Python\\Python310\\lib\\concurrent\\futures\\_base.py:453\u001b[0m, in \u001b[0;36mFuture.result\u001b[1;34m(self, timeout)\u001b[0m\n\u001b[0;32m    450\u001b[0m \u001b[39melif\u001b[39;00m \u001b[39mself\u001b[39m\u001b[39m.\u001b[39m_state \u001b[39m==\u001b[39m FINISHED:\n\u001b[0;32m    451\u001b[0m     \u001b[39mreturn\u001b[39;00m \u001b[39mself\u001b[39m\u001b[39m.\u001b[39m__get_result()\n\u001b[1;32m--> 453\u001b[0m \u001b[39mself\u001b[39;49m\u001b[39m.\u001b[39;49m_condition\u001b[39m.\u001b[39;49mwait(timeout)\n\u001b[0;32m    455\u001b[0m \u001b[39mif\u001b[39;00m \u001b[39mself\u001b[39m\u001b[39m.\u001b[39m_state \u001b[39min\u001b[39;00m [CANCELLED, CANCELLED_AND_NOTIFIED]:\n\u001b[0;32m    456\u001b[0m     \u001b[39mraise\u001b[39;00m CancelledError()\n",
      "File \u001b[1;32m~\\AppData\\Local\\Programs\\Python\\Python310\\lib\\threading.py:320\u001b[0m, in \u001b[0;36mCondition.wait\u001b[1;34m(self, timeout)\u001b[0m\n\u001b[0;32m    318\u001b[0m \u001b[39mtry\u001b[39;00m:    \u001b[39m# restore state no matter what (e.g., KeyboardInterrupt)\u001b[39;00m\n\u001b[0;32m    319\u001b[0m     \u001b[39mif\u001b[39;00m timeout \u001b[39mis\u001b[39;00m \u001b[39mNone\u001b[39;00m:\n\u001b[1;32m--> 320\u001b[0m         waiter\u001b[39m.\u001b[39;49macquire()\n\u001b[0;32m    321\u001b[0m         gotit \u001b[39m=\u001b[39m \u001b[39mTrue\u001b[39;00m\n\u001b[0;32m    322\u001b[0m     \u001b[39melse\u001b[39;00m:\n",
      "\u001b[1;31mKeyboardInterrupt\u001b[0m: "
     ]
    }
   ],
   "source": [
    "%%capture\n",
    "VERBOSITY = False\n",
    "mm = measurement_manager(\n",
    "    n_shots=16384,\n",
    "    execution_type=qutils.execution_type.simulator,\n",
    "    verbose=VERBOSITY,\n",
    ")\n",
    "for a in range(12):\n",
    "    # put state code here\n",
    "    state = qiskit.QuantumCircuit(3)\n",
    "    state.h(0)\n",
    "    run(mm=mm, state=state, verbose=VERBOSITY, hadamard=True)"
   ]
  },
  {
   "cell_type": "code",
   "execution_count": null,
   "metadata": {},
   "outputs": [],
   "source": []
  }
 ],
 "metadata": {
  "kernelspec": {
   "display_name": ".venv",
   "language": "python",
   "name": "python3"
  },
  "language_info": {
   "codemirror_mode": {
    "name": "ipython",
    "version": 3
   },
   "file_extension": ".py",
   "mimetype": "text/x-python",
   "name": "python",
   "nbconvert_exporter": "python",
   "pygments_lexer": "ipython3",
   "version": "3.10.9"
  }
 },
 "nbformat": 4,
 "nbformat_minor": 2
}
