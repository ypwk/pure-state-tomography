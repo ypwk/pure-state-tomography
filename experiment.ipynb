{
 "cells": [
  {
   "cell_type": "markdown",
   "metadata": {},
   "source": [
    "# Pure State Tomography Experiments\n",
    "This notebook contains code for running experiments on IBM quantum computers."
   ]
  },
  {
   "cell_type": "markdown",
   "metadata": {},
   "source": [
    "## First Time Setup\n",
    "Before running the code in this repository, you will need to set up the IBM Qiskit Runtime. First, create a file named config.ini, which will contain your IBM credentials. The format is as follows:\n",
    "\n",
    "```ini\n",
    "[IBM]\n",
    "token = <YOUR_IBM_TOKEN>\n",
    "```\n",
    "\n",
    "This program will read the config.ini file for your API token. Now, run the following code to save your IBM token to your machine for further use. You will no longer need to run this cell afterwards. "
   ]
  },
  {
   "cell_type": "code",
   "execution_count": 5,
   "metadata": {},
   "outputs": [],
   "source": [
    "import configparser\n",
    "from qiskit_ibm_runtime import QiskitRuntimeService\n",
    "\n",
    "with open(\"config.ini\", \"r\") as cf:\n",
    "    cp = configparser.ConfigParser()\n",
    "    cp.read_file(cf)\n",
    "    api_token = cp.get(\"IBM\", \"token\")\n",
    "QiskitRuntimeService.save_account(channel=\"ibm_quantum\", token=api_token, overwrite=True)"
   ]
  },
  {
   "cell_type": "markdown",
   "metadata": {},
   "source": [
    "You will also need to install the prerequisite python packages."
   ]
  },
  {
   "cell_type": "code",
   "execution_count": null,
   "metadata": {},
   "outputs": [],
   "source": [
    "import sys\n",
    "\n",
    "!{sys.executable} -m pip install qiskit\n",
    "!{sys.executable} -m pip install qiskit_aer\n",
    "!{sys.executable} -m pip install qiskit_ibm_provider\n",
    "!{sys.executable} -m pip install qiskit_ibm_runtime\n",
    "!{sys.executable} -m pip install numpy\n",
    "!{sys.executable} -m pip install networkx\n",
    "!{sys.executable} -m pip install enum"
   ]
  },
  {
   "cell_type": "markdown",
   "metadata": {},
   "source": [
    "### Running Experiments\n",
    "First, import the necessary packages and set up the code:"
   ]
  },
  {
   "cell_type": "code",
   "execution_count": 1,
   "metadata": {},
   "outputs": [],
   "source": [
    "%load_ext autoreload\n",
    "%reload_ext autoreload\n",
    "%autoreload 2\n",
    "\n",
    "from numpy import (\n",
    "    ndarray,\n",
    "    reshape,\n",
    "    linalg,\n",
    "    set_printoptions,\n",
    "    pi,\n",
    "    sqrt,\n",
    ")\n",
    "from qiskit_aer import AerSimulator\n",
    "from pure_state_tomography import tomography\n",
    "import putils\n",
    "import qutils\n",
    "import qiskit\n",
    "from measurement_manager import measurement_manager\n",
    "\n",
    "set_printoptions(linewidth=100)"
   ]
  },
  {
   "cell_type": "markdown",
   "metadata": {},
   "source": [
    "The following function runs the experiment using the `pure_state_tomography` package. \n",
    "\n",
    "For runs on real IBM quantum computers (i.e. not simulator or statevector runs), the first concluded run for an input will output a job file containing the IBM job ids, which the `tomography` class will use to recall the contents of previous runs. Do note that because concurrent IBM jobs are limited to 3 per free account, you may have to run this code several times to get all of the needed measurement results."
   ]
  },
  {
   "cell_type": "code",
   "execution_count": 2,
   "metadata": {},
   "outputs": [],
   "source": [
    "talg = tomography()\n",
    "\n",
    "def run(\n",
    "    mm: measurement_manager,\n",
    "    tomography_type: qutils.tomography_type,\n",
    "    state: ndarray | qiskit.QuantumCircuit,\n",
    "    verbose: bool = True,\n",
    "    job_file: str = None,\n",
    "    hadamard: bool = False,\n",
    "):\n",
    "    putils.fprint(\"Running inference at {} shots\\n\".format(mm.n_shots))\n",
    "\n",
    "    # reset measurement manager state\n",
    "    mm.set_state(tomography_type=tomography_type, state=state)\n",
    "    \n",
    "    if type(state) is qiskit.QuantumCircuit:\n",
    "        state = state.copy()\n",
    "    \n",
    "    # run pure state tomography\n",
    "    res = talg.pure_state_tomography(\n",
    "        mm=mm, tomography_type=tomography_type, verbose=verbose, job_file=job_file, hadamard=hadamard\n",
    "    )\n",
    "\n",
    "    if res is not None:        \n",
    "        if type(state) is ndarray:\n",
    "            if tomography_type is qutils.tomography_type.process:\n",
    "                res = (\n",
    "                    reshape(\n",
    "                        res,\n",
    "                        (\n",
    "                            state.shape[0],\n",
    "                            state.shape[0],\n",
    "                        ),\n",
    "                    ).T\n",
    "                    * sqrt(state.shape[0])\n",
    "                )\n",
    "            putils.fprint(\n",
    "                \"Reconstructed {}:\\n{}\".format(\n",
    "                    \"vector\" if state.ndim == 1 else \"matrix\", res\n",
    "                )\n",
    "            )\n",
    "            putils.fprint(\n",
    "                \"% Error: {}\\n\".format(100 * linalg.norm(state- res))\n",
    "            )\n",
    "        elif type(state) is qiskit.QuantumCircuit:\n",
    "            if tomography_type is qutils.tomography_type.process:\n",
    "                state = qutils.circuit_to_unitary(state)\n",
    "                res = (\n",
    "                    reshape(\n",
    "                        res,\n",
    "                        (\n",
    "                            state.shape[0],\n",
    "                            state.shape[0],\n",
    "                        ),\n",
    "                    ).T\n",
    "                    * sqrt(state.shape[0])\n",
    "                )\n",
    "            else:\n",
    "                state = qutils.circuit_to_statevector(state)\n",
    "            putils.fprint(\n",
    "                \"Original {}:\\n{}\".format(\n",
    "                    \"vector\" if state.ndim == 1 else \"matrix\", state\n",
    "                )\n",
    "            )\n",
    "            putils.fprint(\n",
    "                \"Reconstructed {}:\\n{}\".format(\n",
    "                    \"vector\" if state.ndim == 1 else \"matrix\", res\n",
    "                )\n",
    "            )\n",
    "\n",
    "            putils.fprint(\n",
    "                \"% Error: {}\\n\".format(100 * linalg.norm(state - res))\n",
    "            )"
   ]
  },
  {
   "cell_type": "markdown",
   "metadata": {},
   "source": [
    "The following code sets up and runs the experiment on an IBM quantum computer using our previously defined run function. Using a single measurement manager object is recommended. "
   ]
  },
  {
   "cell_type": "code",
   "execution_count": null,
   "metadata": {},
   "outputs": [],
   "source": [
    "VERBOSITY = True\n",
    "\n",
    "qutils.EPSILON = 5e-3\n",
    "\n",
    "JOB_FILE = None\n",
    "\n",
    "# put state code here\n",
    "state = qiskit.QuantumCircuit(3)\n",
    "state.h(0)\n",
    "state.h(1)\n",
    "state.h(2)\n",
    "state.x(0)\n",
    "state.u(pi / 4, 0, 0, 2)\n",
    "\n",
    "mm = measurement_manager(\n",
    "    n_shots=16384,\n",
    "    execution_type=qutils.execution_type.ibm_qpu,\n",
    "    verbose=VERBOSITY,\n",
    ")\n",
    "\n",
    "run(mm=mm, tomography_type=qutils.tomography_type.process, state=state, verbose=VERBOSITY, job_file=JOB_FILE, hadamard=False)"
   ]
  },
  {
   "cell_type": "markdown",
   "metadata": {},
   "source": [
    "The following code sets up and runs the experiment many times on local noisy simulators. "
   ]
  },
  {
   "cell_type": "code",
   "execution_count": 5,
   "metadata": {},
   "outputs": [],
   "source": [
    "%%capture\n",
    "\n",
    "VERBOSITY = False\n",
    "mm = measurement_manager(\n",
    "    n_shots=putils.fast_pow(2, 14),\n",
    "    execution_type=qutils.execution_type.simulator,\n",
    "    verbose=VERBOSITY,\n",
    ")\n",
    "for a in range(512):\n",
    "    # put state code here\n",
    "    state = qiskit.QuantumCircuit(3)\n",
    "    state.u(pi / 4, 0, 0, 1)\n",
    "    state.u(pi / 4, 0, 0, 2)\n",
    "    state.cx(2, 1)\n",
    "    state.h(2)\n",
    "    run(mm=mm, tomography_type=qutils.tomography_type.state, state=state, verbose=VERBOSITY, hadamard=False)"
   ]
  },
  {
   "cell_type": "code",
   "execution_count": null,
   "metadata": {},
   "outputs": [],
   "source": []
  }
 ],
 "metadata": {
  "kernelspec": {
   "display_name": ".venv",
   "language": "python",
   "name": "python3"
  },
  "language_info": {
   "codemirror_mode": {
    "name": "ipython",
    "version": 3
   },
   "file_extension": ".py",
   "mimetype": "text/x-python",
   "name": "python",
   "nbconvert_exporter": "python",
   "pygments_lexer": "ipython3",
   "version": "3.10.9"
  }
 },
 "nbformat": 4,
 "nbformat_minor": 2
}
