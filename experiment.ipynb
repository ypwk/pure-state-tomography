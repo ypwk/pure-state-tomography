{
 "cells": [
  {
   "cell_type": "markdown",
   "metadata": {},
   "source": [
    "# Pure State Tomography Experiments\n",
    "This notebook contains code for running experiments on IBM quantum computers."
   ]
  },
  {
   "cell_type": "markdown",
   "metadata": {},
   "source": [
    "## First Time Setup\n",
    "Before running the code in this repository, you will need to set up the IBM Qiskit Runtime. First, create a file named config.ini, which will contain your IBM credentials. The format is as follows:\n",
    "\n",
    "```ini\n",
    "[IBM]\n",
    "token = <YOUR_IBM_TOKEN>\n",
    "```\n",
    "\n",
    "This program will read the config.ini file for your API token. Now, run the following code to save your IBM token to your machine for further use. You will no longer need to run this cell afterwards. "
   ]
  },
  {
   "cell_type": "code",
   "execution_count": null,
   "metadata": {},
   "outputs": [],
   "source": [
    "import configparser\n",
    "from qiskit_ibm_runtime import QiskitRuntimeService\n",
    "\n",
    "with open(\"config.ini\", \"r\") as cf:\n",
    "    cp = configparser.ConfigParser()\n",
    "    cp.read_file(cf)\n",
    "    api_token = cp.get(\"IBM\", \"token\")\n",
    "QiskitRuntimeService.save_account(channel=\"ibm_quantum\", token=api_token, overwrite=True)"
   ]
  },
  {
   "cell_type": "markdown",
   "metadata": {},
   "source": [
    "You will also need to install the prerequisite python packages."
   ]
  },
  {
   "cell_type": "code",
   "execution_count": null,
   "metadata": {},
   "outputs": [],
   "source": [
    "import sys\n",
    "\n",
    "!{sys.executable} -m pip install qiskit\n",
    "!{sys.executable} -m pip install qiskit_aer\n",
    "!{sys.executable} -m pip install qiskit_ibm_provider\n",
    "!{sys.executable} -m pip install qiskit_ibm_runtime\n",
    "!{sys.executable} -m pip install numpy\n",
    "!{sys.executable} -m pip install networkx\n",
    "!{sys.executable} -m pip install enum"
   ]
  },
  {
   "cell_type": "markdown",
   "metadata": {},
   "source": [
    "### Running Experiments\n",
    "First, import the necessary packages and set up the code:"
   ]
  },
  {
   "cell_type": "code",
   "execution_count": 1,
   "metadata": {},
   "outputs": [],
   "source": [
    "from numpy import (\n",
    "    ndarray,\n",
    "    reshape,\n",
    "    linalg,\n",
    "    set_printoptions,\n",
    "    pi,\n",
    ")\n",
    "from qiskit_aer import AerSimulator\n",
    "from pure_state_tomography import tomography\n",
    "import putils\n",
    "import qutils\n",
    "import qiskit\n",
    "from measurement_manager import measurement_manager\n",
    "\n",
    "set_printoptions(linewidth=100)"
   ]
  },
  {
   "cell_type": "markdown",
   "metadata": {},
   "source": [
    "The following function runs the experiment using the `pure_state_tomography` package. \n",
    "\n",
    "For runs on real IBM quantum computers (i.e. not simulator or statevector runs), the first concluded run for an input will output a job file containing the IBM job ids, which the `tomography` class will use to recall the contents of previous runs. Do note that because concurrent IBM jobs are limited to 3 per free account, you may have to run this code several times to get all of the needed measurement results."
   ]
  },
  {
   "cell_type": "code",
   "execution_count": 2,
   "metadata": {},
   "outputs": [],
   "source": [
    "talg = tomography()\n",
    "\n",
    "def run(\n",
    "    mm: measurement_manager,\n",
    "    state: ndarray | qiskit.QuantumCircuit,\n",
    "    verbose: bool = True,\n",
    "    job_file: str = None,\n",
    "    hadamard: bool = False,\n",
    "):\n",
    "    putils.fprint(\"Running inference at {} shots\\n\".format(mm.n_shots))\n",
    "\n",
    "    # reset measurement manager state\n",
    "    mm.set_state(state)\n",
    "    \n",
    "    if type(state) is qiskit.QuantumCircuit:\n",
    "        state = state.copy()\n",
    "    \n",
    "    # run pure state tomography\n",
    "    res = talg.pure_state_tomography(\n",
    "        mm=mm, verbose=verbose, job_file=job_file, hadamard=hadamard\n",
    "    )\n",
    "\n",
    "    if res is not None:        \n",
    "        if type(state) is ndarray:\n",
    "            if state.ndim > 1:\n",
    "                res = (\n",
    "                    reshape(\n",
    "                        res,\n",
    "                        (\n",
    "                            state.shape[0],\n",
    "                            state.shape[0],\n",
    "                        ),\n",
    "                    ).T\n",
    "                    * 2\n",
    "                )\n",
    "            putils.fprint(\n",
    "                \"Reconstructed {}:\\n{}\".format(\n",
    "                    \"vector\" if state.ndim == 1 else \"matrix\", res\n",
    "                )\n",
    "            )\n",
    "            putils.fprint(\n",
    "                \"% Error: {}\\n\".format(100 * linalg.norm(state- res))\n",
    "            )\n",
    "        elif type(state) is qiskit.QuantumCircuit:\n",
    "            state = qutils.circuit_to_statevector(state)\n",
    "            \n",
    "            if state.ndim > 1:\n",
    "                res = (\n",
    "                    reshape(\n",
    "                        res,\n",
    "                        (\n",
    "                            state.shape[0],\n",
    "                            state.shape[0],\n",
    "                        ),\n",
    "                    ).T\n",
    "                    * 2\n",
    "                )\n",
    "\n",
    "            putils.fprint(\n",
    "                \"Original {}:\\n{}\".format(\n",
    "                    \"vector\" if state.ndim == 1 else \"matrix\", state\n",
    "                )\n",
    "            )\n",
    "            putils.fprint(\n",
    "                \"Reconstructed {}:\\n{}\".format(\n",
    "                    \"vector\" if state.ndim == 1 else \"matrix\", res\n",
    "                )\n",
    "            )\n",
    "\n",
    "            putils.fprint(\n",
    "                \"% Error: {}\\n\".format(100 * linalg.norm(state - res))\n",
    "            )"
   ]
  },
  {
   "cell_type": "markdown",
   "metadata": {},
   "source": [
    "The following code sets up and runs the experiment on an IBM quantum computer using our previously defined run function. Using a single measurement manager object is recommended. "
   ]
  },
  {
   "cell_type": "code",
   "execution_count": 7,
   "metadata": {},
   "outputs": [
    {
     "ename": "KeyboardInterrupt",
     "evalue": "",
     "output_type": "error",
     "traceback": [
      "\u001b[1;31m---------------------------------------------------------------------------\u001b[0m",
      "\u001b[1;31mKeyboardInterrupt\u001b[0m                         Traceback (most recent call last)",
      "\u001b[1;32mc:\\Users\\kevin\\Research\\tomography-repo\\experiment.ipynb Cell 11\u001b[0m line \u001b[0;36m1\n\u001b[0;32m     <a href='vscode-notebook-cell:/c%3A/Users/kevin/Research/tomography-repo/experiment.ipynb#X13sZmlsZQ%3D%3D?line=10'>11</a>\u001b[0m state\u001b[39m.\u001b[39mcnot(\u001b[39m2\u001b[39m, \u001b[39m1\u001b[39m)\n\u001b[0;32m     <a href='vscode-notebook-cell:/c%3A/Users/kevin/Research/tomography-repo/experiment.ipynb#X13sZmlsZQ%3D%3D?line=11'>12</a>\u001b[0m state\u001b[39m.\u001b[39mcnot(\u001b[39m2\u001b[39m, \u001b[39m0\u001b[39m)\n\u001b[1;32m---> <a href='vscode-notebook-cell:/c%3A/Users/kevin/Research/tomography-repo/experiment.ipynb#X13sZmlsZQ%3D%3D?line=13'>14</a>\u001b[0m mm \u001b[39m=\u001b[39m measurement_manager(\n\u001b[0;32m     <a href='vscode-notebook-cell:/c%3A/Users/kevin/Research/tomography-repo/experiment.ipynb#X13sZmlsZQ%3D%3D?line=14'>15</a>\u001b[0m     n_shots\u001b[39m=\u001b[39;49m\u001b[39m16384\u001b[39;49m,\n\u001b[0;32m     <a href='vscode-notebook-cell:/c%3A/Users/kevin/Research/tomography-repo/experiment.ipynb#X13sZmlsZQ%3D%3D?line=15'>16</a>\u001b[0m     execution_type\u001b[39m=\u001b[39;49mqutils\u001b[39m.\u001b[39;49mexecution_type\u001b[39m.\u001b[39;49mibm_qpu,\n\u001b[0;32m     <a href='vscode-notebook-cell:/c%3A/Users/kevin/Research/tomography-repo/experiment.ipynb#X13sZmlsZQ%3D%3D?line=16'>17</a>\u001b[0m     verbose\u001b[39m=\u001b[39;49mVERBOSITY,\n\u001b[0;32m     <a href='vscode-notebook-cell:/c%3A/Users/kevin/Research/tomography-repo/experiment.ipynb#X13sZmlsZQ%3D%3D?line=17'>18</a>\u001b[0m )\n\u001b[0;32m     <a href='vscode-notebook-cell:/c%3A/Users/kevin/Research/tomography-repo/experiment.ipynb#X13sZmlsZQ%3D%3D?line=19'>20</a>\u001b[0m run(mm\u001b[39m=\u001b[39mmm, state\u001b[39m=\u001b[39mstate, verbose\u001b[39m=\u001b[39mVERBOSITY, job_file\u001b[39m=\u001b[39mJOB_FILE, hadamard\u001b[39m=\u001b[39m\u001b[39mTrue\u001b[39;00m)\n",
      "File \u001b[1;32mc:\\Users\\kevin\\Research\\tomography-repo\\measurement_manager.py:102\u001b[0m, in \u001b[0;36mmeasurement_manager.__init__\u001b[1;34m(self, n_shots, execution_type, verbose)\u001b[0m\n\u001b[0;32m     99\u001b[0m     cp\u001b[39m.\u001b[39mread_file(cf)\n\u001b[0;32m    100\u001b[0m     api_token \u001b[39m=\u001b[39m cp\u001b[39m.\u001b[39mget(\u001b[39m\"\u001b[39m\u001b[39mIBM\u001b[39m\u001b[39m\"\u001b[39m, \u001b[39m\"\u001b[39m\u001b[39mtoken\u001b[39m\u001b[39m\"\u001b[39m)\n\u001b[1;32m--> 102\u001b[0m provider \u001b[39m=\u001b[39m IBMProvider(token\u001b[39m=\u001b[39;49mapi_token)\n\u001b[0;32m    103\u001b[0m \u001b[39mself\u001b[39m\u001b[39m.\u001b[39mdevice \u001b[39m=\u001b[39m provider\u001b[39m.\u001b[39mget_backend(\u001b[39m\"\u001b[39m\u001b[39mibm_lagos\u001b[39m\u001b[39m\"\u001b[39m)\n\u001b[0;32m    104\u001b[0m \u001b[39mself\u001b[39m\u001b[39m.\u001b[39msession \u001b[39m=\u001b[39m Session(backend\u001b[39m=\u001b[39m\u001b[39mself\u001b[39m\u001b[39m.\u001b[39mdevice)\n",
      "File \u001b[1;32mc:\\Users\\kevin\\Research\\tomography-repo\\.venv\\lib\\site-packages\\qiskit_ibm_provider\\ibm_provider.py:186\u001b[0m, in \u001b[0;36mIBMProvider.__init__\u001b[1;34m(self, token, url, name, instance, proxies, verify)\u001b[0m\n\u001b[0;32m    183\u001b[0m \u001b[39mself\u001b[39m\u001b[39m.\u001b[39m_runtime_client \u001b[39m=\u001b[39m RuntimeClient(\u001b[39mself\u001b[39m\u001b[39m.\u001b[39m_client_params)\n\u001b[0;32m    185\u001b[0m \u001b[39mself\u001b[39m\u001b[39m.\u001b[39m_hgps \u001b[39m=\u001b[39m \u001b[39mself\u001b[39m\u001b[39m.\u001b[39m_initialize_hgps(\u001b[39mself\u001b[39m\u001b[39m.\u001b[39m_auth_client)\n\u001b[1;32m--> 186\u001b[0m \u001b[39mself\u001b[39;49m\u001b[39m.\u001b[39;49m_initialize_services()\n",
      "File \u001b[1;32mc:\\Users\\kevin\\Research\\tomography-repo\\.venv\\lib\\site-packages\\qiskit_ibm_provider\\ibm_provider.py:412\u001b[0m, in \u001b[0;36mIBMProvider._initialize_services\u001b[1;34m(self)\u001b[0m\n\u001b[0;32m    409\u001b[0m \u001b[39mfor\u001b[39;00m hgp \u001b[39min\u001b[39;00m hgps:\n\u001b[0;32m    410\u001b[0m     \u001b[39m# Initialize backend service\u001b[39;00m\n\u001b[0;32m    411\u001b[0m     \u001b[39mif\u001b[39;00m \u001b[39mnot\u001b[39;00m \u001b[39mself\u001b[39m\u001b[39m.\u001b[39m_backend:\n\u001b[1;32m--> 412\u001b[0m         \u001b[39mself\u001b[39m\u001b[39m.\u001b[39m_backend \u001b[39m=\u001b[39m IBMBackendService(\u001b[39mself\u001b[39;49m, hgp)\n\u001b[0;32m    413\u001b[0m     \u001b[39mif\u001b[39;00m \u001b[39mself\u001b[39m\u001b[39m.\u001b[39m_backend:\n\u001b[0;32m    414\u001b[0m         \u001b[39mbreak\u001b[39;00m\n",
      "File \u001b[1;32mc:\\Users\\kevin\\Research\\tomography-repo\\.venv\\lib\\site-packages\\qiskit_ibm_provider\\ibm_backend_service.py:98\u001b[0m, in \u001b[0;36mIBMBackendService.__init__\u001b[1;34m(self, provider, hgp)\u001b[0m\n\u001b[0;32m     96\u001b[0m \u001b[39mself\u001b[39m\u001b[39m.\u001b[39m_backends: Dict[\u001b[39mstr\u001b[39m, IBMBackend] \u001b[39m=\u001b[39m {}\n\u001b[0;32m     97\u001b[0m \u001b[39mself\u001b[39m\u001b[39m.\u001b[39m_backend_configs: Dict[\u001b[39mstr\u001b[39m, Any] \u001b[39m=\u001b[39m {}\n\u001b[1;32m---> 98\u001b[0m \u001b[39mself\u001b[39;49m\u001b[39m.\u001b[39;49m_initialize_backends()\n",
      "File \u001b[1;32mc:\\Users\\kevin\\Research\\tomography-repo\\.venv\\lib\\site-packages\\qiskit_ibm_provider\\ibm_backend_service.py:105\u001b[0m, in \u001b[0;36mIBMBackendService._initialize_backends\u001b[1;34m(self)\u001b[0m\n\u001b[0;32m    102\u001b[0m \u001b[39m# Add backends from user selected hgp followed by backends\u001b[39;00m\n\u001b[0;32m    103\u001b[0m \u001b[39m# from other hgps if not already added\u001b[39;00m\n\u001b[0;32m    104\u001b[0m \u001b[39mfor\u001b[39;00m hgp \u001b[39min\u001b[39;00m \u001b[39mself\u001b[39m\u001b[39m.\u001b[39m_provider\u001b[39m.\u001b[39m_get_hgps():\n\u001b[1;32m--> 105\u001b[0m     \u001b[39mfor\u001b[39;00m name \u001b[39min\u001b[39;00m hgp\u001b[39m.\u001b[39;49mbackends:\n\u001b[0;32m    106\u001b[0m         \u001b[39mif\u001b[39;00m name \u001b[39mnot\u001b[39;00m \u001b[39min\u001b[39;00m \u001b[39mself\u001b[39m\u001b[39m.\u001b[39m_backends:\n\u001b[0;32m    107\u001b[0m             \u001b[39mself\u001b[39m\u001b[39m.\u001b[39m_backends[name] \u001b[39m=\u001b[39m \u001b[39mNone\u001b[39;00m\n",
      "File \u001b[1;32mc:\\Users\\kevin\\Research\\tomography-repo\\.venv\\lib\\site-packages\\qiskit_ibm_provider\\hub_group_project.py:61\u001b[0m, in \u001b[0;36mHubGroupProject.backends\u001b[1;34m(self)\u001b[0m\n\u001b[0;32m     55\u001b[0m \u001b[39m\u001b[39m\u001b[39m\"\"\"Gets the backends for the hub/group/project, if not loaded.\u001b[39;00m\n\u001b[0;32m     56\u001b[0m \n\u001b[0;32m     57\u001b[0m \u001b[39mReturns:\u001b[39;00m\n\u001b[0;32m     58\u001b[0m \u001b[39m    Dict[str, IBMBackend]: the backends\u001b[39;00m\n\u001b[0;32m     59\u001b[0m \u001b[39m\"\"\"\u001b[39;00m\n\u001b[0;32m     60\u001b[0m \u001b[39mif\u001b[39;00m \u001b[39mnot\u001b[39;00m \u001b[39mself\u001b[39m\u001b[39m.\u001b[39m_backends:\n\u001b[1;32m---> 61\u001b[0m     \u001b[39mself\u001b[39m\u001b[39m.\u001b[39m_backends \u001b[39m=\u001b[39m \u001b[39mself\u001b[39;49m\u001b[39m.\u001b[39;49m_discover_remote_backends()\n\u001b[0;32m     62\u001b[0m \u001b[39mreturn\u001b[39;00m \u001b[39mself\u001b[39m\u001b[39m.\u001b[39m_backends\n",
      "File \u001b[1;32mc:\\Users\\kevin\\Research\\tomography-repo\\.venv\\lib\\site-packages\\qiskit_ibm_provider\\hub_group_project.py:80\u001b[0m, in \u001b[0;36mHubGroupProject._discover_remote_backends\u001b[1;34m(self)\u001b[0m\n\u001b[0;32m     74\u001b[0m \u001b[39m\u001b[39m\u001b[39m\"\"\"Return the remote backends available for this hub/group/project.\u001b[39;00m\n\u001b[0;32m     75\u001b[0m \n\u001b[0;32m     76\u001b[0m \u001b[39mReturns:\u001b[39;00m\n\u001b[0;32m     77\u001b[0m \u001b[39m    A dict of the remote backend instances, keyed by backend name.\u001b[39;00m\n\u001b[0;32m     78\u001b[0m \u001b[39m\"\"\"\u001b[39;00m\n\u001b[0;32m     79\u001b[0m ret: OrderedDict[\u001b[39mstr\u001b[39m, Any] \u001b[39m=\u001b[39m OrderedDict()\n\u001b[1;32m---> 80\u001b[0m backends \u001b[39m=\u001b[39m \u001b[39mself\u001b[39;49m\u001b[39m.\u001b[39;49m_provider\u001b[39m.\u001b[39;49m_runtime_client\u001b[39m.\u001b[39;49mlist_backends(\u001b[39mself\u001b[39;49m\u001b[39m.\u001b[39;49mname)\n\u001b[0;32m     81\u001b[0m \u001b[39mif\u001b[39;00m backends:\n\u001b[0;32m     82\u001b[0m     \u001b[39mfor\u001b[39;00m backend \u001b[39min\u001b[39;00m backends:\n",
      "File \u001b[1;32mc:\\Users\\kevin\\Research\\tomography-repo\\.venv\\lib\\site-packages\\qiskit_ibm_provider\\api\\clients\\runtime.py:55\u001b[0m, in \u001b[0;36mRuntimeClient.list_backends\u001b[1;34m(self, hgp)\u001b[0m\n\u001b[0;32m     46\u001b[0m \u001b[39mdef\u001b[39;00m \u001b[39mlist_backends\u001b[39m(\u001b[39mself\u001b[39m, hgp: \u001b[39mstr\u001b[39m) \u001b[39m-\u001b[39m\u001b[39m>\u001b[39m List[\u001b[39mstr\u001b[39m]:\n\u001b[0;32m     47\u001b[0m \u001b[39m    \u001b[39m\u001b[39m\"\"\"Return a list of backends.\u001b[39;00m\n\u001b[0;32m     48\u001b[0m \n\u001b[0;32m     49\u001b[0m \u001b[39m    Args:\u001b[39;00m\n\u001b[1;32m   (...)\u001b[0m\n\u001b[0;32m     53\u001b[0m \u001b[39m        The list of backends from the given hgp.\u001b[39;00m\n\u001b[0;32m     54\u001b[0m \u001b[39m    \"\"\"\u001b[39;00m\n\u001b[1;32m---> 55\u001b[0m     \u001b[39mreturn\u001b[39;00m \u001b[39mself\u001b[39;49m\u001b[39m.\u001b[39;49m_api\u001b[39m.\u001b[39;49mbackend()\u001b[39m.\u001b[39;49mbackends(hgp\u001b[39m=\u001b[39;49mhgp)\n",
      "File \u001b[1;32mc:\\Users\\kevin\\Research\\tomography-repo\\.venv\\lib\\site-packages\\qiskit_ibm_provider\\api\\rest\\backend.py:55\u001b[0m, in \u001b[0;36mBackend.backends\u001b[1;34m(self, hgp)\u001b[0m\n\u001b[0;32m     46\u001b[0m \u001b[39m\u001b[39m\u001b[39m\"\"\"Return a list of backends.\u001b[39;00m\n\u001b[0;32m     47\u001b[0m \n\u001b[0;32m     48\u001b[0m \u001b[39mArgs:\u001b[39;00m\n\u001b[1;32m   (...)\u001b[0m\n\u001b[0;32m     52\u001b[0m \u001b[39m    The list of backends from the given hgp.\u001b[39;00m\n\u001b[0;32m     53\u001b[0m \u001b[39m\"\"\"\u001b[39;00m\n\u001b[0;32m     54\u001b[0m payload \u001b[39m=\u001b[39m {\u001b[39m\"\u001b[39m\u001b[39mprovider\u001b[39m\u001b[39m\"\u001b[39m: hgp}\n\u001b[1;32m---> 55\u001b[0m \u001b[39mreturn\u001b[39;00m \u001b[39mself\u001b[39;49m\u001b[39m.\u001b[39;49msession\u001b[39m.\u001b[39;49mget(\u001b[39mself\u001b[39;49m\u001b[39m.\u001b[39;49mprefix_url, params\u001b[39m=\u001b[39;49mpayload)\u001b[39m.\u001b[39mjson()[\u001b[39m\"\u001b[39m\u001b[39mdevices\u001b[39m\u001b[39m\"\u001b[39m]\n",
      "File \u001b[1;32mc:\\Users\\kevin\\Research\\tomography-repo\\.venv\\lib\\site-packages\\requests\\sessions.py:602\u001b[0m, in \u001b[0;36mSession.get\u001b[1;34m(self, url, **kwargs)\u001b[0m\n\u001b[0;32m    594\u001b[0m \u001b[39m\u001b[39m\u001b[39mr\u001b[39m\u001b[39m\"\"\"Sends a GET request. Returns :class:`Response` object.\u001b[39;00m\n\u001b[0;32m    595\u001b[0m \n\u001b[0;32m    596\u001b[0m \u001b[39m:param url: URL for the new :class:`Request` object.\u001b[39;00m\n\u001b[0;32m    597\u001b[0m \u001b[39m:param \\*\\*kwargs: Optional arguments that ``request`` takes.\u001b[39;00m\n\u001b[0;32m    598\u001b[0m \u001b[39m:rtype: requests.Response\u001b[39;00m\n\u001b[0;32m    599\u001b[0m \u001b[39m\"\"\"\u001b[39;00m\n\u001b[0;32m    601\u001b[0m kwargs\u001b[39m.\u001b[39msetdefault(\u001b[39m\"\u001b[39m\u001b[39mallow_redirects\u001b[39m\u001b[39m\"\u001b[39m, \u001b[39mTrue\u001b[39;00m)\n\u001b[1;32m--> 602\u001b[0m \u001b[39mreturn\u001b[39;00m \u001b[39mself\u001b[39m\u001b[39m.\u001b[39mrequest(\u001b[39m\"\u001b[39m\u001b[39mGET\u001b[39m\u001b[39m\"\u001b[39m, url, \u001b[39m*\u001b[39m\u001b[39m*\u001b[39mkwargs)\n",
      "File \u001b[1;32mc:\\Users\\kevin\\Research\\tomography-repo\\.venv\\lib\\site-packages\\qiskit_ibm_provider\\api\\session.py:263\u001b[0m, in \u001b[0;36mRetrySession.request\u001b[1;34m(self, method, url, bare, **kwargs)\u001b[0m\n\u001b[0;32m    261\u001b[0m \u001b[39mtry\u001b[39;00m:\n\u001b[0;32m    262\u001b[0m     \u001b[39mself\u001b[39m\u001b[39m.\u001b[39m_log_request_info(final_url, method, kwargs)\n\u001b[1;32m--> 263\u001b[0m     response \u001b[39m=\u001b[39m \u001b[39msuper\u001b[39m()\u001b[39m.\u001b[39mrequest(method, final_url, headers\u001b[39m=\u001b[39mheaders, \u001b[39m*\u001b[39m\u001b[39m*\u001b[39mkwargs)\n\u001b[0;32m    264\u001b[0m     response\u001b[39m.\u001b[39mraise_for_status()\n\u001b[0;32m    265\u001b[0m \u001b[39mexcept\u001b[39;00m RequestException \u001b[39mas\u001b[39;00m ex:\n\u001b[0;32m    266\u001b[0m     \u001b[39m# Wrap the requests exceptions into a IBM Q custom one, for\u001b[39;00m\n\u001b[0;32m    267\u001b[0m     \u001b[39m# compatibility.\u001b[39;00m\n",
      "File \u001b[1;32mc:\\Users\\kevin\\Research\\tomography-repo\\.venv\\lib\\site-packages\\requests\\sessions.py:589\u001b[0m, in \u001b[0;36mSession.request\u001b[1;34m(self, method, url, params, data, headers, cookies, files, auth, timeout, allow_redirects, proxies, hooks, stream, verify, cert, json)\u001b[0m\n\u001b[0;32m    584\u001b[0m send_kwargs \u001b[39m=\u001b[39m {\n\u001b[0;32m    585\u001b[0m     \u001b[39m\"\u001b[39m\u001b[39mtimeout\u001b[39m\u001b[39m\"\u001b[39m: timeout,\n\u001b[0;32m    586\u001b[0m     \u001b[39m\"\u001b[39m\u001b[39mallow_redirects\u001b[39m\u001b[39m\"\u001b[39m: allow_redirects,\n\u001b[0;32m    587\u001b[0m }\n\u001b[0;32m    588\u001b[0m send_kwargs\u001b[39m.\u001b[39mupdate(settings)\n\u001b[1;32m--> 589\u001b[0m resp \u001b[39m=\u001b[39m \u001b[39mself\u001b[39m\u001b[39m.\u001b[39msend(prep, \u001b[39m*\u001b[39m\u001b[39m*\u001b[39msend_kwargs)\n\u001b[0;32m    591\u001b[0m \u001b[39mreturn\u001b[39;00m resp\n",
      "File \u001b[1;32mc:\\Users\\kevin\\Research\\tomography-repo\\.venv\\lib\\site-packages\\requests\\sessions.py:703\u001b[0m, in \u001b[0;36mSession.send\u001b[1;34m(self, request, **kwargs)\u001b[0m\n\u001b[0;32m    700\u001b[0m start \u001b[39m=\u001b[39m preferred_clock()\n\u001b[0;32m    702\u001b[0m \u001b[39m# Send the request\u001b[39;00m\n\u001b[1;32m--> 703\u001b[0m r \u001b[39m=\u001b[39m adapter\u001b[39m.\u001b[39msend(request, \u001b[39m*\u001b[39m\u001b[39m*\u001b[39mkwargs)\n\u001b[0;32m    705\u001b[0m \u001b[39m# Total elapsed time of the request (approximately)\u001b[39;00m\n\u001b[0;32m    706\u001b[0m elapsed \u001b[39m=\u001b[39m preferred_clock() \u001b[39m-\u001b[39m start\n",
      "File \u001b[1;32mc:\\Users\\kevin\\Research\\tomography-repo\\.venv\\lib\\site-packages\\requests\\adapters.py:486\u001b[0m, in \u001b[0;36mHTTPAdapter.send\u001b[1;34m(self, request, stream, timeout, verify, cert, proxies)\u001b[0m\n\u001b[0;32m    483\u001b[0m     timeout \u001b[39m=\u001b[39m TimeoutSauce(connect\u001b[39m=\u001b[39mtimeout, read\u001b[39m=\u001b[39mtimeout)\n\u001b[0;32m    485\u001b[0m \u001b[39mtry\u001b[39;00m:\n\u001b[1;32m--> 486\u001b[0m     resp \u001b[39m=\u001b[39m conn\u001b[39m.\u001b[39;49murlopen(\n\u001b[0;32m    487\u001b[0m         method\u001b[39m=\u001b[39;49mrequest\u001b[39m.\u001b[39;49mmethod,\n\u001b[0;32m    488\u001b[0m         url\u001b[39m=\u001b[39;49murl,\n\u001b[0;32m    489\u001b[0m         body\u001b[39m=\u001b[39;49mrequest\u001b[39m.\u001b[39;49mbody,\n\u001b[0;32m    490\u001b[0m         headers\u001b[39m=\u001b[39;49mrequest\u001b[39m.\u001b[39;49mheaders,\n\u001b[0;32m    491\u001b[0m         redirect\u001b[39m=\u001b[39;49m\u001b[39mFalse\u001b[39;49;00m,\n\u001b[0;32m    492\u001b[0m         assert_same_host\u001b[39m=\u001b[39;49m\u001b[39mFalse\u001b[39;49;00m,\n\u001b[0;32m    493\u001b[0m         preload_content\u001b[39m=\u001b[39;49m\u001b[39mFalse\u001b[39;49;00m,\n\u001b[0;32m    494\u001b[0m         decode_content\u001b[39m=\u001b[39;49m\u001b[39mFalse\u001b[39;49;00m,\n\u001b[0;32m    495\u001b[0m         retries\u001b[39m=\u001b[39;49m\u001b[39mself\u001b[39;49m\u001b[39m.\u001b[39;49mmax_retries,\n\u001b[0;32m    496\u001b[0m         timeout\u001b[39m=\u001b[39;49mtimeout,\n\u001b[0;32m    497\u001b[0m         chunked\u001b[39m=\u001b[39;49mchunked,\n\u001b[0;32m    498\u001b[0m     )\n\u001b[0;32m    500\u001b[0m \u001b[39mexcept\u001b[39;00m (ProtocolError, \u001b[39mOSError\u001b[39;00m) \u001b[39mas\u001b[39;00m err:\n\u001b[0;32m    501\u001b[0m     \u001b[39mraise\u001b[39;00m \u001b[39mConnectionError\u001b[39;00m(err, request\u001b[39m=\u001b[39mrequest)\n",
      "File \u001b[1;32mc:\\Users\\kevin\\Research\\tomography-repo\\.venv\\lib\\site-packages\\urllib3\\connectionpool.py:714\u001b[0m, in \u001b[0;36mHTTPConnectionPool.urlopen\u001b[1;34m(self, method, url, body, headers, retries, redirect, assert_same_host, timeout, pool_timeout, release_conn, chunked, body_pos, **response_kw)\u001b[0m\n\u001b[0;32m    711\u001b[0m     \u001b[39mself\u001b[39m\u001b[39m.\u001b[39m_prepare_proxy(conn)\n\u001b[0;32m    713\u001b[0m \u001b[39m# Make the request on the httplib connection object.\u001b[39;00m\n\u001b[1;32m--> 714\u001b[0m httplib_response \u001b[39m=\u001b[39m \u001b[39mself\u001b[39;49m\u001b[39m.\u001b[39;49m_make_request(\n\u001b[0;32m    715\u001b[0m     conn,\n\u001b[0;32m    716\u001b[0m     method,\n\u001b[0;32m    717\u001b[0m     url,\n\u001b[0;32m    718\u001b[0m     timeout\u001b[39m=\u001b[39;49mtimeout_obj,\n\u001b[0;32m    719\u001b[0m     body\u001b[39m=\u001b[39;49mbody,\n\u001b[0;32m    720\u001b[0m     headers\u001b[39m=\u001b[39;49mheaders,\n\u001b[0;32m    721\u001b[0m     chunked\u001b[39m=\u001b[39;49mchunked,\n\u001b[0;32m    722\u001b[0m )\n\u001b[0;32m    724\u001b[0m \u001b[39m# If we're going to release the connection in ``finally:``, then\u001b[39;00m\n\u001b[0;32m    725\u001b[0m \u001b[39m# the response doesn't need to know about the connection. Otherwise\u001b[39;00m\n\u001b[0;32m    726\u001b[0m \u001b[39m# it will also try to release it and we'll have a double-release\u001b[39;00m\n\u001b[0;32m    727\u001b[0m \u001b[39m# mess.\u001b[39;00m\n\u001b[0;32m    728\u001b[0m response_conn \u001b[39m=\u001b[39m conn \u001b[39mif\u001b[39;00m \u001b[39mnot\u001b[39;00m release_conn \u001b[39melse\u001b[39;00m \u001b[39mNone\u001b[39;00m\n",
      "File \u001b[1;32mc:\\Users\\kevin\\Research\\tomography-repo\\.venv\\lib\\site-packages\\urllib3\\connectionpool.py:466\u001b[0m, in \u001b[0;36mHTTPConnectionPool._make_request\u001b[1;34m(self, conn, method, url, timeout, chunked, **httplib_request_kw)\u001b[0m\n\u001b[0;32m    461\u001b[0m             httplib_response \u001b[39m=\u001b[39m conn\u001b[39m.\u001b[39mgetresponse()\n\u001b[0;32m    462\u001b[0m         \u001b[39mexcept\u001b[39;00m \u001b[39mBaseException\u001b[39;00m \u001b[39mas\u001b[39;00m e:\n\u001b[0;32m    463\u001b[0m             \u001b[39m# Remove the TypeError from the exception chain in\u001b[39;00m\n\u001b[0;32m    464\u001b[0m             \u001b[39m# Python 3 (including for exceptions like SystemExit).\u001b[39;00m\n\u001b[0;32m    465\u001b[0m             \u001b[39m# Otherwise it looks like a bug in the code.\u001b[39;00m\n\u001b[1;32m--> 466\u001b[0m             six\u001b[39m.\u001b[39;49mraise_from(e, \u001b[39mNone\u001b[39;49;00m)\n\u001b[0;32m    467\u001b[0m \u001b[39mexcept\u001b[39;00m (SocketTimeout, BaseSSLError, SocketError) \u001b[39mas\u001b[39;00m e:\n\u001b[0;32m    468\u001b[0m     \u001b[39mself\u001b[39m\u001b[39m.\u001b[39m_raise_timeout(err\u001b[39m=\u001b[39me, url\u001b[39m=\u001b[39murl, timeout_value\u001b[39m=\u001b[39mread_timeout)\n",
      "File \u001b[1;32m<string>:3\u001b[0m, in \u001b[0;36mraise_from\u001b[1;34m(value, from_value)\u001b[0m\n",
      "File \u001b[1;32mc:\\Users\\kevin\\Research\\tomography-repo\\.venv\\lib\\site-packages\\urllib3\\connectionpool.py:461\u001b[0m, in \u001b[0;36mHTTPConnectionPool._make_request\u001b[1;34m(self, conn, method, url, timeout, chunked, **httplib_request_kw)\u001b[0m\n\u001b[0;32m    458\u001b[0m \u001b[39mexcept\u001b[39;00m \u001b[39mTypeError\u001b[39;00m:\n\u001b[0;32m    459\u001b[0m     \u001b[39m# Python 3\u001b[39;00m\n\u001b[0;32m    460\u001b[0m     \u001b[39mtry\u001b[39;00m:\n\u001b[1;32m--> 461\u001b[0m         httplib_response \u001b[39m=\u001b[39m conn\u001b[39m.\u001b[39;49mgetresponse()\n\u001b[0;32m    462\u001b[0m     \u001b[39mexcept\u001b[39;00m \u001b[39mBaseException\u001b[39;00m \u001b[39mas\u001b[39;00m e:\n\u001b[0;32m    463\u001b[0m         \u001b[39m# Remove the TypeError from the exception chain in\u001b[39;00m\n\u001b[0;32m    464\u001b[0m         \u001b[39m# Python 3 (including for exceptions like SystemExit).\u001b[39;00m\n\u001b[0;32m    465\u001b[0m         \u001b[39m# Otherwise it looks like a bug in the code.\u001b[39;00m\n\u001b[0;32m    466\u001b[0m         six\u001b[39m.\u001b[39mraise_from(e, \u001b[39mNone\u001b[39;00m)\n",
      "File \u001b[1;32m~\\AppData\\Local\\Programs\\Python\\Python310\\lib\\http\\client.py:1374\u001b[0m, in \u001b[0;36mHTTPConnection.getresponse\u001b[1;34m(self)\u001b[0m\n\u001b[0;32m   1372\u001b[0m \u001b[39mtry\u001b[39;00m:\n\u001b[0;32m   1373\u001b[0m     \u001b[39mtry\u001b[39;00m:\n\u001b[1;32m-> 1374\u001b[0m         response\u001b[39m.\u001b[39;49mbegin()\n\u001b[0;32m   1375\u001b[0m     \u001b[39mexcept\u001b[39;00m \u001b[39mConnectionError\u001b[39;00m:\n\u001b[0;32m   1376\u001b[0m         \u001b[39mself\u001b[39m\u001b[39m.\u001b[39mclose()\n",
      "File \u001b[1;32m~\\AppData\\Local\\Programs\\Python\\Python310\\lib\\http\\client.py:318\u001b[0m, in \u001b[0;36mHTTPResponse.begin\u001b[1;34m(self)\u001b[0m\n\u001b[0;32m    316\u001b[0m \u001b[39m# read until we get a non-100 response\u001b[39;00m\n\u001b[0;32m    317\u001b[0m \u001b[39mwhile\u001b[39;00m \u001b[39mTrue\u001b[39;00m:\n\u001b[1;32m--> 318\u001b[0m     version, status, reason \u001b[39m=\u001b[39m \u001b[39mself\u001b[39;49m\u001b[39m.\u001b[39;49m_read_status()\n\u001b[0;32m    319\u001b[0m     \u001b[39mif\u001b[39;00m status \u001b[39m!=\u001b[39m CONTINUE:\n\u001b[0;32m    320\u001b[0m         \u001b[39mbreak\u001b[39;00m\n",
      "File \u001b[1;32m~\\AppData\\Local\\Programs\\Python\\Python310\\lib\\http\\client.py:279\u001b[0m, in \u001b[0;36mHTTPResponse._read_status\u001b[1;34m(self)\u001b[0m\n\u001b[0;32m    278\u001b[0m \u001b[39mdef\u001b[39;00m \u001b[39m_read_status\u001b[39m(\u001b[39mself\u001b[39m):\n\u001b[1;32m--> 279\u001b[0m     line \u001b[39m=\u001b[39m \u001b[39mstr\u001b[39m(\u001b[39mself\u001b[39;49m\u001b[39m.\u001b[39;49mfp\u001b[39m.\u001b[39;49mreadline(_MAXLINE \u001b[39m+\u001b[39;49m \u001b[39m1\u001b[39;49m), \u001b[39m\"\u001b[39m\u001b[39miso-8859-1\u001b[39m\u001b[39m\"\u001b[39m)\n\u001b[0;32m    280\u001b[0m     \u001b[39mif\u001b[39;00m \u001b[39mlen\u001b[39m(line) \u001b[39m>\u001b[39m _MAXLINE:\n\u001b[0;32m    281\u001b[0m         \u001b[39mraise\u001b[39;00m LineTooLong(\u001b[39m\"\u001b[39m\u001b[39mstatus line\u001b[39m\u001b[39m\"\u001b[39m)\n",
      "File \u001b[1;32m~\\AppData\\Local\\Programs\\Python\\Python310\\lib\\socket.py:705\u001b[0m, in \u001b[0;36mSocketIO.readinto\u001b[1;34m(self, b)\u001b[0m\n\u001b[0;32m    703\u001b[0m \u001b[39mwhile\u001b[39;00m \u001b[39mTrue\u001b[39;00m:\n\u001b[0;32m    704\u001b[0m     \u001b[39mtry\u001b[39;00m:\n\u001b[1;32m--> 705\u001b[0m         \u001b[39mreturn\u001b[39;00m \u001b[39mself\u001b[39;49m\u001b[39m.\u001b[39;49m_sock\u001b[39m.\u001b[39;49mrecv_into(b)\n\u001b[0;32m    706\u001b[0m     \u001b[39mexcept\u001b[39;00m timeout:\n\u001b[0;32m    707\u001b[0m         \u001b[39mself\u001b[39m\u001b[39m.\u001b[39m_timeout_occurred \u001b[39m=\u001b[39m \u001b[39mTrue\u001b[39;00m\n",
      "File \u001b[1;32m~\\AppData\\Local\\Programs\\Python\\Python310\\lib\\ssl.py:1274\u001b[0m, in \u001b[0;36mSSLSocket.recv_into\u001b[1;34m(self, buffer, nbytes, flags)\u001b[0m\n\u001b[0;32m   1270\u001b[0m     \u001b[39mif\u001b[39;00m flags \u001b[39m!=\u001b[39m \u001b[39m0\u001b[39m:\n\u001b[0;32m   1271\u001b[0m         \u001b[39mraise\u001b[39;00m \u001b[39mValueError\u001b[39;00m(\n\u001b[0;32m   1272\u001b[0m           \u001b[39m\"\u001b[39m\u001b[39mnon-zero flags not allowed in calls to recv_into() on \u001b[39m\u001b[39m%s\u001b[39;00m\u001b[39m\"\u001b[39m \u001b[39m%\u001b[39m\n\u001b[0;32m   1273\u001b[0m           \u001b[39mself\u001b[39m\u001b[39m.\u001b[39m\u001b[39m__class__\u001b[39m)\n\u001b[1;32m-> 1274\u001b[0m     \u001b[39mreturn\u001b[39;00m \u001b[39mself\u001b[39;49m\u001b[39m.\u001b[39;49mread(nbytes, buffer)\n\u001b[0;32m   1275\u001b[0m \u001b[39melse\u001b[39;00m:\n\u001b[0;32m   1276\u001b[0m     \u001b[39mreturn\u001b[39;00m \u001b[39msuper\u001b[39m()\u001b[39m.\u001b[39mrecv_into(buffer, nbytes, flags)\n",
      "File \u001b[1;32m~\\AppData\\Local\\Programs\\Python\\Python310\\lib\\ssl.py:1130\u001b[0m, in \u001b[0;36mSSLSocket.read\u001b[1;34m(self, len, buffer)\u001b[0m\n\u001b[0;32m   1128\u001b[0m \u001b[39mtry\u001b[39;00m:\n\u001b[0;32m   1129\u001b[0m     \u001b[39mif\u001b[39;00m buffer \u001b[39mis\u001b[39;00m \u001b[39mnot\u001b[39;00m \u001b[39mNone\u001b[39;00m:\n\u001b[1;32m-> 1130\u001b[0m         \u001b[39mreturn\u001b[39;00m \u001b[39mself\u001b[39;49m\u001b[39m.\u001b[39;49m_sslobj\u001b[39m.\u001b[39;49mread(\u001b[39mlen\u001b[39;49m, buffer)\n\u001b[0;32m   1131\u001b[0m     \u001b[39melse\u001b[39;00m:\n\u001b[0;32m   1132\u001b[0m         \u001b[39mreturn\u001b[39;00m \u001b[39mself\u001b[39m\u001b[39m.\u001b[39m_sslobj\u001b[39m.\u001b[39mread(\u001b[39mlen\u001b[39m)\n",
      "\u001b[1;31mKeyboardInterrupt\u001b[0m: "
     ]
    }
   ],
   "source": [
    "VERBOSITY = True\n",
    "\n",
    "qutils.EPSILON = 5e-3\n",
    "\n",
    "JOB_FILE = \"job_2023_11_14T_08_12_18.txt\"\n",
    "\n",
    "# put state code here\n",
    "state = qiskit.QuantumCircuit(3)\n",
    "state.h(2)\n",
    "state.x(2)\n",
    "state.cnot(2, 1)\n",
    "state.cnot(2, 0)\n",
    "\n",
    "mm = measurement_manager(\n",
    "    n_shots=16384,\n",
    "    execution_type=qutils.execution_type.ibm_qpu,\n",
    "    verbose=VERBOSITY,\n",
    ")\n",
    "\n",
    "run(mm=mm, state=state, verbose=VERBOSITY, job_file=JOB_FILE, hadamard=True)"
   ]
  },
  {
   "cell_type": "markdown",
   "metadata": {},
   "source": [
    "The following code sets up and runs the experiment many times on local noisy simulators. "
   ]
  },
  {
   "cell_type": "code",
   "execution_count": 8,
   "metadata": {},
   "outputs": [],
   "source": [
    "%%capture\n",
    "qutils.EPSILON = 5e-3\n",
    "\n",
    "VERBOSITY = False\n",
    "mm = measurement_manager(\n",
    "    n_shots=16384,\n",
    "    execution_type=qutils.execution_type.statevector,\n",
    "    verbose=VERBOSITY,\n",
    ")\n",
    "for a in range(1):\n",
    "    # put state code here\n",
    "    state = qiskit.QuantumCircuit(3)\n",
    "    state.u(pi / 4, 0, 0, 1)\n",
    "    state.u(pi / 4, 0, 0, 2)\n",
    "    state.cx(2, 1)\n",
    "    state.h(2)\n",
    "    run(mm=mm, state=state, verbose=VERBOSITY, hadamard=True)"
   ]
  },
  {
   "cell_type": "code",
   "execution_count": null,
   "metadata": {},
   "outputs": [],
   "source": []
  }
 ],
 "metadata": {
  "kernelspec": {
   "display_name": ".venv",
   "language": "python",
   "name": "python3"
  },
  "language_info": {
   "codemirror_mode": {
    "name": "ipython",
    "version": 3
   },
   "file_extension": ".py",
   "mimetype": "text/x-python",
   "name": "python",
   "nbconvert_exporter": "python",
   "pygments_lexer": "ipython3",
   "version": "3.10.9"
  }
 },
 "nbformat": 4,
 "nbformat_minor": 2
}
